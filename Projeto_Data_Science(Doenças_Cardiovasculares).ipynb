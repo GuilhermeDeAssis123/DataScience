{
  "nbformat": 4,
  "nbformat_minor": 0,
  "metadata": {
    "colab": {
      "name": "Projeto_Data_Science(Doenças Cardiovasculares).ipynb",
      "provenance": [],
      "collapsed_sections": [],
      "authorship_tag": "ABX9TyNI7Jj/eAFsFIqeg+h0HBzt",
      "include_colab_link": true
    },
    "kernelspec": {
      "name": "python3",
      "display_name": "Python 3"
    }
  },
  "cells": [
    {
      "cell_type": "markdown",
      "metadata": {
        "id": "view-in-github",
        "colab_type": "text"
      },
      "source": [
        "<a href=\"https://colab.research.google.com/github/GuilhermeDeAssis123/DataScience/blob/master/Projeto_Data_Science(Doen%C3%A7as_Cardiovasculares).ipynb\" target=\"_parent\"><img src=\"https://colab.research.google.com/assets/colab-badge.svg\" alt=\"Open In Colab\"/></a>"
      ]
    },
    {
      "cell_type": "markdown",
      "metadata": {
        "id": "w4j5koc9aXKi",
        "colab_type": "text"
      },
      "source": [
        "# Análise exploratória de dados -  Doenças cardiovasculares.\n",
        "\n",
        "> Doenças classificadas como cardiovasculares são aquelas de que alguma forma atacam o coração ou os vasos sanguinios. Dentro dessa classe podemos enumerar algumas como cardiopatia, arritimia cardíaca, aneurisma da orta, entre outras.\n",
        "\n",
        "<center><img src = \"https://drauziovarella.uol.com.br/wp-content/uploads/2012/01/20150519-coracao.jpg\"></center>\n",
        "\n",
        "> Apesar de ser uma das principais causas de morte no mundo, estima-se que cerca de 90% casos poderiam ter sido evitados que hábitos e estilo de vida mais saudável.\n",
        "\n",
        "> Para ajudar na prevenção contra esses casos, hoje em dia existem muitos algoritmos de machine learning que conseguem prever e ajudar os medicos a identificarem essas doenças. Em alguns casos algoritmos de deep learning conseguiram prever doenças 5 anos antes delas se manifestarem.\n",
        "\n",
        "> Podemos ver então que o uso da inteligência artificial é de grande impacto para à area da saúde e tem proporcionado aos profissionais da area ferramentas cada vez mais precisas."
      ]
    },
    {
      "cell_type": "markdown",
      "metadata": {
        "id": "-gP2aaLGdWzh",
        "colab_type": "text"
      },
      "source": [
        "#Obtenção dos Dados\n",
        "\n",
        ">O principal Dataset utilizado nesse projeto foi retirado da **Cleveland Clinic Foundation** e se encontra disponível no [Repositório UCI *Machine Learning*](https://archive.ics.uci.edu/ml/datasets/heart+Disease). Ressalta-se que informações pessoais dos paciêntes como nome e documentos foram removidos do banco.\n",
        "\n",
        "> O Dataset que possuimos é composto por 303 pessoas(linhas) e 76 atributos(colunas). Toda via os principais artigos e estudos optaram por apenas 14 desses atributos que são de maior relevância para análise, da mesma maneura que vamos fazer nesse projeto.\n",
        "\n",
        "* O arquivo cvs com os dados de 303 pessoas e 14 atributos pode ser baixado [aqui](https://raw.githubusercontent.com/carlosfab/curso_data_science_na_pratica/master/modulo_03/heart-disease-uci.csv).\n",
        "\n",
        "* O arquivo contendo todos os detalhes e documentação do *dataset* usado neste projeto se encontra [neste link](https://github.com/carlosfab/curso_data_science_na_pratica/blob/master/modulo_03/heart-disease.names).\n",
        "\n",
        "* Há ainda um *dataset* secundário que será utilizado para ver a evolução no número de mortes por doenças cardiovasculares no Brasil (entre os anos de 2004-2017). Esses dados foram disponibilizados pela [Sociedade Brasileira de Cardiologia](http://www.cardiometro.com.br/anteriores.asp), e podem ser baixados [neste link](https://raw.githubusercontent.com/carlosfab/curso_data_science_na_pratica/master/modulo_03/mortes_doencas_cardiovasculares.csv).\n",
        "\n"
      ]
    },
    {
      "cell_type": "markdown",
      "metadata": {
        "id": "5vFljy6edo9A",
        "colab_type": "text"
      },
      "source": [
        "# Dicionário de Atributos\n",
        "\n",
        "* `Age` - idade em anos\n",
        "* `sex` - sexo do paciente\n",
        " * 0: mulher\n",
        " * 1: homem\n",
        "* `cp` - tipo da dor torácica\n",
        "  * 1: angina típica\n",
        "  * 2: angina atípica\n",
        "  * 3: dor não cardiaca\n",
        "  * 4: assintomática\n",
        "* `trestbps` - pressão arterial em repouso\n",
        "* `chol` - colesterol sérico(mg/dl)\n",
        "* `fbs` - açucar no sangue em jejum -> 120mg/dl\n",
        "  * 0: `False`\n",
        "  * 1: `True`\n",
        "* `restecg` - resultado de eletrocardiografia de repouso\n",
        "  * 0: normal\n",
        "  * 1: anormalidades de ST-T (inversão de onda T e elevação ou depressão de 0.05mV)\n",
        "  * 2: hipertrofia ventricular esquerda provavél ou definitiva\n",
        "* `thalach` - frequência cardíaca máxima atingida\n",
        "* `exang` - angina induzida pelo exercício\n",
        "  * 0: não\n",
        "  * 1: sim\n",
        "* `oldpeak` - depressão do segmento ST induzida pelo exercício em releção ao repouso\n",
        "* `slope` - inclinação do segmento ST no pico do exercício\n",
        "* `ca` - número de vasos principais colorido por fluoroscopia\n",
        "* `thal` - thallium stress test\n",
        "  * 3: normal\n",
        "  * 6: defeito fixo\n",
        "  * 7: defeito reversível\n",
        "* `num` - diagnóstico de doença cardiaca (diagnóstico angiografico)\n",
        "  * 0: não há doença cardíaca\n",
        "  * 1, 2, 3, 4: há doença cardiaca "
      ]
    },
    {
      "cell_type": "markdown",
      "metadata": {
        "id": "LNVIF7XIkLi3",
        "colab_type": "text"
      },
      "source": [
        "# Importação dos Dados \n",
        "\n",
        "> Nesta etapa incial do projeto, a primeira coisa a se fazer é a importação dos dados, os mesmos que foram mencionados na etapa anterior.\n",
        "* Um contendo os dados relacionados as doenças cardiovasculares;\n",
        "* Outro contendo os dados da mortalidade por doença cardiovascular no Brasil."
      ]
    },
    {
      "cell_type": "code",
      "metadata": {
        "id": "QNItA9qWwYCQ",
        "colab_type": "code",
        "colab": {}
      },
      "source": [
        "# importar bibliotecas necessárias.\n",
        "import pandas as pd\n",
        "import matplotlib.pyplot as plt\n",
        "import seaborn as sea\n",
        "#importar os arquivos csv necessários.\n",
        "df = pd.read_csv('https://raw.githubusercontent.com/carlosfab/curso_data_science_na_pratica/master/modulo_03/heart-disease-uci.csv') \n",
        "df_brasil = pd.read_csv('https://raw.githubusercontent.com/carlosfab/curso_data_science_na_pratica/master/modulo_03/mortes_doencas_cardiovasculares.csv',index_col=\"ano\", parse_dates=True)"
      ],
      "execution_count": 0,
      "outputs": []
    },
    {
      "cell_type": "markdown",
      "metadata": {
        "id": "sX-x4dThx4pr",
        "colab_type": "text"
      },
      "source": [
        ">Observando acima vemos que na feature (variável) `num` temos 5 valores possíveis para doenças cardiovasculares:[0,1,2,3,4]. \n",
        "\n",
        "> No entanto, vamos nos adequar a maiorias das pesquisa e vamos utilizar uma métrica de apenas 2 valores como situações possíveis:\n",
        "* 0: não há doença cardíaca\n",
        "* 1: existe doença cardíaca\n",
        "\n",
        "> Dessa maneira todos os valores maiores ou iguais a 1, serão substituidos por 1."
      ]
    },
    {
      "cell_type": "code",
      "metadata": {
        "id": "-6o1prjz0aEI",
        "colab_type": "code",
        "colab": {
          "base_uri": "https://localhost:8080/",
          "height": 117
        },
        "outputId": "89c9e125-2f8f-4df3-cfca-10a628ef4a47"
      },
      "source": [
        "# variável alvo antes da mudança.\n",
        "df.num.value_counts()"
      ],
      "execution_count": 2,
      "outputs": [
        {
          "output_type": "execute_result",
          "data": {
            "text/plain": [
              "0    164\n",
              "1     55\n",
              "2     36\n",
              "3     35\n",
              "4     13\n",
              "Name: num, dtype: int64"
            ]
          },
          "metadata": {
            "tags": []
          },
          "execution_count": 2
        }
      ]
    },
    {
      "cell_type": "code",
      "metadata": {
        "id": "j7SI9Nhd03Mt",
        "colab_type": "code",
        "colab": {}
      },
      "source": [
        "# convertendo os valores >= 1 para 1.\n",
        "df.loc[df.num!=0,'num'] = 1"
      ],
      "execution_count": 0,
      "outputs": []
    },
    {
      "cell_type": "code",
      "metadata": {
        "id": "KjdolRld1OGm",
        "colab_type": "code",
        "colab": {
          "base_uri": "https://localhost:8080/",
          "height": 67
        },
        "outputId": "64eb3a35-ec7f-4c86-ba77-fb8d7d44b1d5"
      },
      "source": [
        "# variável alvo depois da mudança\n",
        "df.num.value_counts()"
      ],
      "execution_count": 4,
      "outputs": [
        {
          "output_type": "execute_result",
          "data": {
            "text/plain": [
              "0    164\n",
              "1    139\n",
              "Name: num, dtype: int64"
            ]
          },
          "metadata": {
            "tags": []
          },
          "execution_count": 4
        }
      ]
    },
    {
      "cell_type": "markdown",
      "metadata": {
        "id": "Q0cILwDe1RPe",
        "colab_type": "text"
      },
      "source": [
        "> Com esse problema solucionado podemos agora entrar na parte mais importante do projeto.\n",
        "\n",
        "#Análise Exploratória dos Dados\n",
        "\n",
        ">Nesta etápa do projeto vamos analisar mais a fundo o nosso Dataset em busca de outliers que podem distorcer a análise, e também buscar insights e correlações que nos ajude a entender o problema. Para isso vamos começar olhando o formato do nosso Dataset principal."
      ]
    },
    {
      "cell_type": "code",
      "metadata": {
        "id": "t5Mb71C73tmP",
        "colab_type": "code",
        "colab": {
          "base_uri": "https://localhost:8080/",
          "height": 33
        },
        "outputId": "9ca3d14b-4a2a-4369-c1a0-6bf939886d68"
      },
      "source": [
        "# Tamanho do Dataset (linha, coluna).\n",
        "df.shape"
      ],
      "execution_count": 5,
      "outputs": [
        {
          "output_type": "execute_result",
          "data": {
            "text/plain": [
              "(303, 14)"
            ]
          },
          "metadata": {
            "tags": []
          },
          "execution_count": 5
        }
      ]
    },
    {
      "cell_type": "code",
      "metadata": {
        "id": "6f1eARlc4BmN",
        "colab_type": "code",
        "colab": {
          "base_uri": "https://localhost:8080/",
          "height": 196
        },
        "outputId": "a866aa2a-da16-4951-c21d-04ebd8334bcf"
      },
      "source": [
        "# Cinco primeiras entradas do Dataset\n",
        "df.head()"
      ],
      "execution_count": 6,
      "outputs": [
        {
          "output_type": "execute_result",
          "data": {
            "text/html": [
              "<div>\n",
              "<style scoped>\n",
              "    .dataframe tbody tr th:only-of-type {\n",
              "        vertical-align: middle;\n",
              "    }\n",
              "\n",
              "    .dataframe tbody tr th {\n",
              "        vertical-align: top;\n",
              "    }\n",
              "\n",
              "    .dataframe thead th {\n",
              "        text-align: right;\n",
              "    }\n",
              "</style>\n",
              "<table border=\"1\" class=\"dataframe\">\n",
              "  <thead>\n",
              "    <tr style=\"text-align: right;\">\n",
              "      <th></th>\n",
              "      <th>age</th>\n",
              "      <th>sex</th>\n",
              "      <th>cp</th>\n",
              "      <th>trestbps</th>\n",
              "      <th>chol</th>\n",
              "      <th>fbs</th>\n",
              "      <th>restecg</th>\n",
              "      <th>thalach</th>\n",
              "      <th>exang</th>\n",
              "      <th>oldpeak</th>\n",
              "      <th>slope</th>\n",
              "      <th>ca</th>\n",
              "      <th>thal</th>\n",
              "      <th>num</th>\n",
              "    </tr>\n",
              "  </thead>\n",
              "  <tbody>\n",
              "    <tr>\n",
              "      <th>0</th>\n",
              "      <td>63.0</td>\n",
              "      <td>1.0</td>\n",
              "      <td>1.0</td>\n",
              "      <td>145.0</td>\n",
              "      <td>233.0</td>\n",
              "      <td>1.0</td>\n",
              "      <td>2.0</td>\n",
              "      <td>150.0</td>\n",
              "      <td>0.0</td>\n",
              "      <td>2.3</td>\n",
              "      <td>3.0</td>\n",
              "      <td>0.0</td>\n",
              "      <td>6.0</td>\n",
              "      <td>0</td>\n",
              "    </tr>\n",
              "    <tr>\n",
              "      <th>1</th>\n",
              "      <td>67.0</td>\n",
              "      <td>1.0</td>\n",
              "      <td>4.0</td>\n",
              "      <td>160.0</td>\n",
              "      <td>286.0</td>\n",
              "      <td>0.0</td>\n",
              "      <td>2.0</td>\n",
              "      <td>108.0</td>\n",
              "      <td>1.0</td>\n",
              "      <td>1.5</td>\n",
              "      <td>2.0</td>\n",
              "      <td>3.0</td>\n",
              "      <td>3.0</td>\n",
              "      <td>1</td>\n",
              "    </tr>\n",
              "    <tr>\n",
              "      <th>2</th>\n",
              "      <td>67.0</td>\n",
              "      <td>1.0</td>\n",
              "      <td>4.0</td>\n",
              "      <td>120.0</td>\n",
              "      <td>229.0</td>\n",
              "      <td>0.0</td>\n",
              "      <td>2.0</td>\n",
              "      <td>129.0</td>\n",
              "      <td>1.0</td>\n",
              "      <td>2.6</td>\n",
              "      <td>2.0</td>\n",
              "      <td>2.0</td>\n",
              "      <td>7.0</td>\n",
              "      <td>1</td>\n",
              "    </tr>\n",
              "    <tr>\n",
              "      <th>3</th>\n",
              "      <td>37.0</td>\n",
              "      <td>1.0</td>\n",
              "      <td>3.0</td>\n",
              "      <td>130.0</td>\n",
              "      <td>250.0</td>\n",
              "      <td>0.0</td>\n",
              "      <td>0.0</td>\n",
              "      <td>187.0</td>\n",
              "      <td>0.0</td>\n",
              "      <td>3.5</td>\n",
              "      <td>3.0</td>\n",
              "      <td>0.0</td>\n",
              "      <td>3.0</td>\n",
              "      <td>0</td>\n",
              "    </tr>\n",
              "    <tr>\n",
              "      <th>4</th>\n",
              "      <td>41.0</td>\n",
              "      <td>0.0</td>\n",
              "      <td>2.0</td>\n",
              "      <td>130.0</td>\n",
              "      <td>204.0</td>\n",
              "      <td>0.0</td>\n",
              "      <td>2.0</td>\n",
              "      <td>172.0</td>\n",
              "      <td>0.0</td>\n",
              "      <td>1.4</td>\n",
              "      <td>1.0</td>\n",
              "      <td>0.0</td>\n",
              "      <td>3.0</td>\n",
              "      <td>0</td>\n",
              "    </tr>\n",
              "  </tbody>\n",
              "</table>\n",
              "</div>"
            ],
            "text/plain": [
              "    age  sex   cp  trestbps   chol  fbs  ...  exang  oldpeak  slope   ca  thal  num\n",
              "0  63.0  1.0  1.0     145.0  233.0  1.0  ...    0.0      2.3    3.0  0.0   6.0    0\n",
              "1  67.0  1.0  4.0     160.0  286.0  0.0  ...    1.0      1.5    2.0  3.0   3.0    1\n",
              "2  67.0  1.0  4.0     120.0  229.0  0.0  ...    1.0      2.6    2.0  2.0   7.0    1\n",
              "3  37.0  1.0  3.0     130.0  250.0  0.0  ...    0.0      3.5    3.0  0.0   3.0    0\n",
              "4  41.0  0.0  2.0     130.0  204.0  0.0  ...    0.0      1.4    1.0  0.0   3.0    0\n",
              "\n",
              "[5 rows x 14 columns]"
            ]
          },
          "metadata": {
            "tags": []
          },
          "execution_count": 6
        }
      ]
    },
    {
      "cell_type": "code",
      "metadata": {
        "id": "Sc5iBWSt4OdM",
        "colab_type": "code",
        "colab": {
          "base_uri": "https://localhost:8080/",
          "height": 334
        },
        "outputId": "76bdc0c7-4feb-4982-bc6f-b6e6eaa23b97"
      },
      "source": [
        "# Resumo do nosso Dataset\n",
        "df.info()"
      ],
      "execution_count": 7,
      "outputs": [
        {
          "output_type": "stream",
          "text": [
            "<class 'pandas.core.frame.DataFrame'>\n",
            "RangeIndex: 303 entries, 0 to 302\n",
            "Data columns (total 14 columns):\n",
            "age         303 non-null float64\n",
            "sex         303 non-null float64\n",
            "cp          303 non-null float64\n",
            "trestbps    303 non-null float64\n",
            "chol        303 non-null float64\n",
            "fbs         303 non-null float64\n",
            "restecg     303 non-null float64\n",
            "thalach     303 non-null float64\n",
            "exang       303 non-null float64\n",
            "oldpeak     303 non-null float64\n",
            "slope       303 non-null float64\n",
            "ca          303 non-null float64\n",
            "thal        303 non-null float64\n",
            "num         303 non-null int64\n",
            "dtypes: float64(13), int64(1)\n",
            "memory usage: 33.3 KB\n"
          ],
          "name": "stdout"
        }
      ]
    },
    {
      "cell_type": "markdown",
      "metadata": {
        "id": "Njpu6XJ44rHv",
        "colab_type": "text"
      },
      "source": [
        "> Podemos ver que das nossas 14 features, 13 são do tipo flutuante e 1 do tipo inteiro. Outro ponto importante é que em nenhuma das colunas existem valores faltantes, ou seja, valores do tipo `NaN`. Vamos confirmar isso utilizando a função isnull()."
      ]
    },
    {
      "cell_type": "code",
      "metadata": {
        "id": "YKfF85JR5ytA",
        "colab_type": "code",
        "colab": {
          "base_uri": "https://localhost:8080/",
          "height": 268
        },
        "outputId": "2139e12c-e75f-4c2a-d83b-f4c2ad33971f"
      },
      "source": [
        "# Verificando os valores faltantes\n",
        "df.isnull().sum()/df.shape[0]"
      ],
      "execution_count": 8,
      "outputs": [
        {
          "output_type": "execute_result",
          "data": {
            "text/plain": [
              "age         0.0\n",
              "sex         0.0\n",
              "cp          0.0\n",
              "trestbps    0.0\n",
              "chol        0.0\n",
              "fbs         0.0\n",
              "restecg     0.0\n",
              "thalach     0.0\n",
              "exang       0.0\n",
              "oldpeak     0.0\n",
              "slope       0.0\n",
              "ca          0.0\n",
              "thal        0.0\n",
              "num         0.0\n",
              "dtype: float64"
            ]
          },
          "metadata": {
            "tags": []
          },
          "execution_count": 8
        }
      ]
    },
    {
      "cell_type": "markdown",
      "metadata": {
        "id": "MHRs3ALa57vH",
        "colab_type": "text"
      },
      "source": [
        "> Vemos que nossa hipótese confirma, todas as colunas estão totalmente completas. Agora vamos analisar qual a porcentagem de pessoas em  nosso dataset possuem alguma doença cardiaca."
      ]
    },
    {
      "cell_type": "code",
      "metadata": {
        "id": "nXZUuqUE6aRC",
        "colab_type": "code",
        "colab": {
          "base_uri": "https://localhost:8080/",
          "height": 50
        },
        "outputId": "98498e08-0cc5-49c2-8f45-18dee1ecc8d7"
      },
      "source": [
        "# verificando a porcentagem de pessoas com doenças cardíacas.\n",
        "aux = df.loc[df.num == 1,'num'].sum()\n",
        "\n",
        "print('Porcentagem de pessoas com doenças cardiacas: {:.2f}%'.format((aux/df.shape[0])*100))\n",
        "print('Porcentagem de pessoas sem doenças cardiacas: {:.2f}%'.format(100 - (aux/df.shape[0])*100))"
      ],
      "execution_count": 9,
      "outputs": [
        {
          "output_type": "stream",
          "text": [
            "Porcentagem de pessoas com doenças cardiacas: 45.87%\n",
            "Porcentagem de pessoas sem doenças cardiacas: 54.13%\n"
          ],
          "name": "stdout"
        }
      ]
    },
    {
      "cell_type": "markdown",
      "metadata": {
        "id": "Ca4oN_RjDbh1",
        "colab_type": "text"
      },
      "source": [
        "> Agora vamos olhar para o resumo estatístico do nossoa Dataset em busca de valores que possam distorcer nossa análise. Vamos utilizar o método `describe()`"
      ]
    },
    {
      "cell_type": "code",
      "metadata": {
        "id": "YYom66PcEG0Y",
        "colab_type": "code",
        "colab": {
          "base_uri": "https://localhost:8080/",
          "height": 306
        },
        "outputId": "cbe3edc6-120f-40fb-fd83-519a641a0c14"
      },
      "source": [
        "# Resumo estatístico\n",
        "df.describe()"
      ],
      "execution_count": 10,
      "outputs": [
        {
          "output_type": "execute_result",
          "data": {
            "text/html": [
              "<div>\n",
              "<style scoped>\n",
              "    .dataframe tbody tr th:only-of-type {\n",
              "        vertical-align: middle;\n",
              "    }\n",
              "\n",
              "    .dataframe tbody tr th {\n",
              "        vertical-align: top;\n",
              "    }\n",
              "\n",
              "    .dataframe thead th {\n",
              "        text-align: right;\n",
              "    }\n",
              "</style>\n",
              "<table border=\"1\" class=\"dataframe\">\n",
              "  <thead>\n",
              "    <tr style=\"text-align: right;\">\n",
              "      <th></th>\n",
              "      <th>age</th>\n",
              "      <th>sex</th>\n",
              "      <th>cp</th>\n",
              "      <th>trestbps</th>\n",
              "      <th>chol</th>\n",
              "      <th>fbs</th>\n",
              "      <th>restecg</th>\n",
              "      <th>thalach</th>\n",
              "      <th>exang</th>\n",
              "      <th>oldpeak</th>\n",
              "      <th>slope</th>\n",
              "      <th>ca</th>\n",
              "      <th>thal</th>\n",
              "      <th>num</th>\n",
              "    </tr>\n",
              "  </thead>\n",
              "  <tbody>\n",
              "    <tr>\n",
              "      <th>count</th>\n",
              "      <td>303.000000</td>\n",
              "      <td>303.000000</td>\n",
              "      <td>303.000000</td>\n",
              "      <td>303.000000</td>\n",
              "      <td>303.000000</td>\n",
              "      <td>303.000000</td>\n",
              "      <td>303.000000</td>\n",
              "      <td>303.000000</td>\n",
              "      <td>303.000000</td>\n",
              "      <td>303.000000</td>\n",
              "      <td>303.000000</td>\n",
              "      <td>303.000000</td>\n",
              "      <td>303.000000</td>\n",
              "      <td>303.000000</td>\n",
              "    </tr>\n",
              "    <tr>\n",
              "      <th>mean</th>\n",
              "      <td>54.438944</td>\n",
              "      <td>0.679868</td>\n",
              "      <td>3.158416</td>\n",
              "      <td>131.689769</td>\n",
              "      <td>246.693069</td>\n",
              "      <td>0.148515</td>\n",
              "      <td>0.990099</td>\n",
              "      <td>149.607261</td>\n",
              "      <td>0.326733</td>\n",
              "      <td>1.039604</td>\n",
              "      <td>1.600660</td>\n",
              "      <td>0.663366</td>\n",
              "      <td>4.722772</td>\n",
              "      <td>0.458746</td>\n",
              "    </tr>\n",
              "    <tr>\n",
              "      <th>std</th>\n",
              "      <td>9.038662</td>\n",
              "      <td>0.467299</td>\n",
              "      <td>0.960126</td>\n",
              "      <td>17.599748</td>\n",
              "      <td>51.776918</td>\n",
              "      <td>0.356198</td>\n",
              "      <td>0.994971</td>\n",
              "      <td>22.875003</td>\n",
              "      <td>0.469794</td>\n",
              "      <td>1.161075</td>\n",
              "      <td>0.616226</td>\n",
              "      <td>0.934375</td>\n",
              "      <td>1.938383</td>\n",
              "      <td>0.499120</td>\n",
              "    </tr>\n",
              "    <tr>\n",
              "      <th>min</th>\n",
              "      <td>29.000000</td>\n",
              "      <td>0.000000</td>\n",
              "      <td>1.000000</td>\n",
              "      <td>94.000000</td>\n",
              "      <td>126.000000</td>\n",
              "      <td>0.000000</td>\n",
              "      <td>0.000000</td>\n",
              "      <td>71.000000</td>\n",
              "      <td>0.000000</td>\n",
              "      <td>0.000000</td>\n",
              "      <td>1.000000</td>\n",
              "      <td>0.000000</td>\n",
              "      <td>3.000000</td>\n",
              "      <td>0.000000</td>\n",
              "    </tr>\n",
              "    <tr>\n",
              "      <th>25%</th>\n",
              "      <td>48.000000</td>\n",
              "      <td>0.000000</td>\n",
              "      <td>3.000000</td>\n",
              "      <td>120.000000</td>\n",
              "      <td>211.000000</td>\n",
              "      <td>0.000000</td>\n",
              "      <td>0.000000</td>\n",
              "      <td>133.500000</td>\n",
              "      <td>0.000000</td>\n",
              "      <td>0.000000</td>\n",
              "      <td>1.000000</td>\n",
              "      <td>0.000000</td>\n",
              "      <td>3.000000</td>\n",
              "      <td>0.000000</td>\n",
              "    </tr>\n",
              "    <tr>\n",
              "      <th>50%</th>\n",
              "      <td>56.000000</td>\n",
              "      <td>1.000000</td>\n",
              "      <td>3.000000</td>\n",
              "      <td>130.000000</td>\n",
              "      <td>241.000000</td>\n",
              "      <td>0.000000</td>\n",
              "      <td>1.000000</td>\n",
              "      <td>153.000000</td>\n",
              "      <td>0.000000</td>\n",
              "      <td>0.800000</td>\n",
              "      <td>2.000000</td>\n",
              "      <td>0.000000</td>\n",
              "      <td>3.000000</td>\n",
              "      <td>0.000000</td>\n",
              "    </tr>\n",
              "    <tr>\n",
              "      <th>75%</th>\n",
              "      <td>61.000000</td>\n",
              "      <td>1.000000</td>\n",
              "      <td>4.000000</td>\n",
              "      <td>140.000000</td>\n",
              "      <td>275.000000</td>\n",
              "      <td>0.000000</td>\n",
              "      <td>2.000000</td>\n",
              "      <td>166.000000</td>\n",
              "      <td>1.000000</td>\n",
              "      <td>1.600000</td>\n",
              "      <td>2.000000</td>\n",
              "      <td>1.000000</td>\n",
              "      <td>7.000000</td>\n",
              "      <td>1.000000</td>\n",
              "    </tr>\n",
              "    <tr>\n",
              "      <th>max</th>\n",
              "      <td>77.000000</td>\n",
              "      <td>1.000000</td>\n",
              "      <td>4.000000</td>\n",
              "      <td>200.000000</td>\n",
              "      <td>564.000000</td>\n",
              "      <td>1.000000</td>\n",
              "      <td>2.000000</td>\n",
              "      <td>202.000000</td>\n",
              "      <td>1.000000</td>\n",
              "      <td>6.200000</td>\n",
              "      <td>3.000000</td>\n",
              "      <td>3.000000</td>\n",
              "      <td>7.000000</td>\n",
              "      <td>1.000000</td>\n",
              "    </tr>\n",
              "  </tbody>\n",
              "</table>\n",
              "</div>"
            ],
            "text/plain": [
              "              age         sex          cp  ...          ca        thal         num\n",
              "count  303.000000  303.000000  303.000000  ...  303.000000  303.000000  303.000000\n",
              "mean    54.438944    0.679868    3.158416  ...    0.663366    4.722772    0.458746\n",
              "std      9.038662    0.467299    0.960126  ...    0.934375    1.938383    0.499120\n",
              "min     29.000000    0.000000    1.000000  ...    0.000000    3.000000    0.000000\n",
              "25%     48.000000    0.000000    3.000000  ...    0.000000    3.000000    0.000000\n",
              "50%     56.000000    1.000000    3.000000  ...    0.000000    3.000000    0.000000\n",
              "75%     61.000000    1.000000    4.000000  ...    1.000000    7.000000    1.000000\n",
              "max     77.000000    1.000000    4.000000  ...    3.000000    7.000000    1.000000\n",
              "\n",
              "[8 rows x 14 columns]"
            ]
          },
          "metadata": {
            "tags": []
          },
          "execution_count": 10
        }
      ]
    },
    {
      "cell_type": "markdown",
      "metadata": {
        "id": "VEEGHQppEbGK",
        "colab_type": "text"
      },
      "source": [
        "> A principio podemos a única variável que apresenta uma anormalidade parece ser a feature `chol`, para comprovar essa hipótese plotando alguns histogramas e analisando a distribuição das features separadamente."
      ]
    },
    {
      "cell_type": "code",
      "metadata": {
        "id": "DtXKV9HfGah1",
        "colab_type": "code",
        "colab": {
          "base_uri": "https://localhost:8080/",
          "height": 441
        },
        "outputId": "f0115aa8-79e9-40df-fa02-186e7f154f67"
      },
      "source": [
        "# plotando histograma para todas as variáveis.\n",
        "df.hist(figsize = (12,6));\n",
        "plt.tight_layout()"
      ],
      "execution_count": 11,
      "outputs": [
        {
          "output_type": "display_data",
          "data": {
            "image/png": "[encoded data removed]",
            "text/plain": [
              "<Figure size 864x432 with 16 Axes>"
            ]
          },
          "metadata": {
            "tags": []
          }
        }
      ]
    },
    {
      "cell_type": "markdown",
      "metadata": {
        "id": "XbMzWPR9vzqi",
        "colab_type": "text"
      },
      "source": [
        "> A distribuição das variáveis parece correta, e estão em uma escala aceitável, por isso não é necessário retirar valores ou fazer mudanças no DataSet. Vamos agora olhar rapidamente para como está o quadro no Brasil. Essa são as primeiras entradas do nosso conjunto de dados."
      ]
    },
    {
      "cell_type": "code",
      "metadata": {
        "id": "ZPcdRF1FvMeS",
        "colab_type": "code",
        "colab": {
          "base_uri": "https://localhost:8080/",
          "height": 226
        },
        "outputId": "ab8aa510-544b-44b6-d323-b4bd27bd1191"
      },
      "source": [
        "# Dataset relacionado ao Brasil (primeiras entradas)\n",
        "df_brasil.head()"
      ],
      "execution_count": 12,
      "outputs": [
        {
          "output_type": "execute_result",
          "data": {
            "text/html": [
              "<div>\n",
              "<style scoped>\n",
              "    .dataframe tbody tr th:only-of-type {\n",
              "        vertical-align: middle;\n",
              "    }\n",
              "\n",
              "    .dataframe tbody tr th {\n",
              "        vertical-align: top;\n",
              "    }\n",
              "\n",
              "    .dataframe thead th {\n",
              "        text-align: right;\n",
              "    }\n",
              "</style>\n",
              "<table border=\"1\" class=\"dataframe\">\n",
              "  <thead>\n",
              "    <tr style=\"text-align: right;\">\n",
              "      <th></th>\n",
              "      <th>mortes_doencas_cardio</th>\n",
              "    </tr>\n",
              "    <tr>\n",
              "      <th>ano</th>\n",
              "      <th></th>\n",
              "    </tr>\n",
              "  </thead>\n",
              "  <tbody>\n",
              "    <tr>\n",
              "      <th>2017-01-01</th>\n",
              "      <td>383.961</td>\n",
              "    </tr>\n",
              "    <tr>\n",
              "      <th>2016-01-01</th>\n",
              "      <td>362.091</td>\n",
              "    </tr>\n",
              "    <tr>\n",
              "      <th>2015-01-01</th>\n",
              "      <td>349.584</td>\n",
              "    </tr>\n",
              "    <tr>\n",
              "      <th>2014-01-01</th>\n",
              "      <td>340.284</td>\n",
              "    </tr>\n",
              "    <tr>\n",
              "      <th>2013-01-01</th>\n",
              "      <td>339.672</td>\n",
              "    </tr>\n",
              "  </tbody>\n",
              "</table>\n",
              "</div>"
            ],
            "text/plain": [
              "            mortes_doencas_cardio\n",
              "ano                              \n",
              "2017-01-01                383.961\n",
              "2016-01-01                362.091\n",
              "2015-01-01                349.584\n",
              "2014-01-01                340.284\n",
              "2013-01-01                339.672"
            ]
          },
          "metadata": {
            "tags": []
          },
          "execution_count": 12
        }
      ]
    },
    {
      "cell_type": "code",
      "metadata": {
        "id": "MwCR84Hew7Y5",
        "colab_type": "code",
        "colab": {
          "base_uri": "https://localhost:8080/",
          "height": 295
        },
        "outputId": "c3826766-9632-4916-c13c-f6acb54c45b4"
      },
      "source": [
        "# Plotando um gráfico de linha sobre os casos no Brasil\n",
        "fig, ax = plt.subplots()\n",
        "df_brasil['mortes_doencas_cardio'].plot(kind = 'line', ax=ax, grid = True)\n",
        "ax.set_xlabel('Ano')\n",
        "ax.set_ylabel('Nº de Casos(mil)')\n",
        "ax.set_title('Numero de casos por ano no Brasil');"
      ],
      "execution_count": 13,
      "outputs": [
        {
          "output_type": "display_data",
          "data": {
            "image/png": "[encoded data removed]",
            "text/plain": [
              "<Figure size 432x288 with 1 Axes>"
            ]
          },
          "metadata": {
            "tags": []
          }
        }
      ]
    },
    {
      "cell_type": "markdown",
      "metadata": {
        "id": "Pep2Z42kKA7s",
        "colab_type": "text"
      },
      "source": [
        ">Podemos observar que segundo o gráfico os casos de morte por doença cardiovascular no Brasil **só aumenta** com o passar dos anos. Agora olhando novamente para o quadro geral vamos analisar o numero de mortes, as classificando pelo sexo."
      ]
    },
    {
      "cell_type": "code",
      "metadata": {
        "id": "mb_jqdfSMspT",
        "colab_type": "code",
        "colab": {
          "base_uri": "https://localhost:8080/",
          "height": 318
        },
        "outputId": "4d6a2e60-c2ca-45dd-c7bf-44ebb6ecb789"
      },
      "source": [
        "# Plotando gráfico de barras sobre a quantiadade de individuos de cada sexo\n",
        "fig, ax = plt.subplots(figsize=(8,4))\n",
        "\n",
        "df.sex.value_counts().plot(kind = 'bar', ax=ax, grid = True)\n",
        "ax.set_title(\"Numero de pacientes por sexo\")\n",
        "ax.set_xlabel(\"Homens  <- Sexo -> Mulheres \")\n",
        "ax.set_ylabel(\"Nº de pacientes\")"
      ],
      "execution_count": 53,
      "outputs": [
        {
          "output_type": "execute_result",
          "data": {
            "text/plain": [
              "Text(0, 0.5, 'Nº de pacientes')"
            ]
          },
          "metadata": {
            "tags": []
          },
          "execution_count": 53
        },
        {
          "output_type": "display_data",
          "data": {
            "image/png": "[encoded data removed]",
            "text/plain": [
              "<Figure size 576x288 with 1 Axes>"
            ]
          },
          "metadata": {
            "tags": []
          }
        }
      ]
    },
    {
      "cell_type": "code",
      "metadata": {
        "id": "O0LQYI8vmH1I",
        "colab_type": "code",
        "colab": {
          "base_uri": "https://localhost:8080/",
          "height": 117
        },
        "outputId": "a3bffafb-13eb-4619-c820-dade62dbce95"
      },
      "source": [
        "# Agrupando o numero de casos por sexo.\n",
        "df.groupby(['sex']).num.value_counts()"
      ],
      "execution_count": 15,
      "outputs": [
        {
          "output_type": "execute_result",
          "data": {
            "text/plain": [
              "sex  num\n",
              "0.0  0       72\n",
              "     1       25\n",
              "1.0  1      114\n",
              "     0       92\n",
              "Name: num, dtype: int64"
            ]
          },
          "metadata": {
            "tags": []
          },
          "execution_count": 15
        }
      ]
    },
    {
      "cell_type": "markdown",
      "metadata": {
        "id": "8RDYzG8emMuI",
        "colab_type": "text"
      },
      "source": [
        "> Podemos observar pelp gráfico de barras que existe uma predominancia de homens em nosso conjunto de dados com cerca de 206 dos 303 pacientes, logo podemos lançar a hipótese de que existem mais casos de morte entre os homens por doenças cardíacas.\n",
        "\n",
        "> Nossa hipótese se confirma quando utilizamos o método `groupby()` que agrupa para nós o numero de casos em relação a cada sexo. Podemos observar que entre os homens cerca de 44% (92), morreram de doenças relacionadas o coração enquanto que nas mulheres a porcentagem é menor, cerca de 25% (25). Isso nos indica que existe uma possibilidade maior de ocorrer uma fatalidade se o individuo for do sexo masculino."
      ]
    },
    {
      "cell_type": "code",
      "metadata": {
        "id": "Ikiqb6u4OBb4",
        "colab_type": "code",
        "colab": {
          "base_uri": "https://localhost:8080/",
          "height": 279
        },
        "outputId": "7a692a91-6f49-4248-b919-b8d3e6588f96"
      },
      "source": [
        "# plotando o gráfico de pontos para as variaveis chol e age\n",
        "fig, ax = plt.subplots()\n",
        "\n",
        "df.plot.scatter(x = 'chol', y = 'age', ax=ax, s=5);"
      ],
      "execution_count": 57,
      "outputs": [
        {
          "output_type": "display_data",
          "data": {
            "image/png": "[encoded data removed]",
            "text/plain": [
              "<Figure size 432x288 with 1 Axes>"
            ]
          },
          "metadata": {
            "tags": []
          }
        }
      ]
    },
    {
      "cell_type": "code",
      "metadata": {
        "id": "1BtFXbZ-Tywk",
        "colab_type": "code",
        "colab": {
          "base_uri": "https://localhost:8080/",
          "height": 84
        },
        "outputId": "da818ce2-0389-4fb3-cc1a-a36fce3981e6"
      },
      "source": [
        "# verificando a media de idade das pessoas que possum doença\n",
        "df.groupby(['num']).age.mean()"
      ],
      "execution_count": 66,
      "outputs": [
        {
          "output_type": "execute_result",
          "data": {
            "text/plain": [
              "num\n",
              "0    52.585366\n",
              "1    56.625899\n",
              "Name: age, dtype: float64"
            ]
          },
          "metadata": {
            "tags": []
          },
          "execution_count": 66
        }
      ]
    },
    {
      "cell_type": "code",
      "metadata": {
        "id": "QZBVnyvxViFQ",
        "colab_type": "code",
        "colab": {
          "base_uri": "https://localhost:8080/",
          "height": 84
        },
        "outputId": "50fb5900-ef45-433f-9cce-1f6a2c5cff7e"
      },
      "source": [
        "# verificando a media de colesterol nas pessoas com doença.\n",
        "df.groupby(['num']).chol.mean()"
      ],
      "execution_count": 67,
      "outputs": [
        {
          "output_type": "execute_result",
          "data": {
            "text/plain": [
              "num\n",
              "0    242.640244\n",
              "1    251.474820\n",
              "Name: chol, dtype: float64"
            ]
          },
          "metadata": {
            "tags": []
          },
          "execution_count": 67
        }
      ]
    },
    {
      "cell_type": "markdown",
      "metadata": {
        "id": "AYJ0E1YNYWDA",
        "colab_type": "text"
      },
      "source": [
        "> Com o gráfico de pontos podemos observar que existe um índice de colesterol seríco maior em pessoas com 50 anos ou mais. \n",
        "\n",
        ">Ja no segundo trecho de codigo podemos observar a média de idade das pessoas que morream de doeças cardiovasculares que é cerca de 56 anos, enquanto que as que não sofrem é de 52 anos. O que nos mostra que a idade também é fator determinante para a ocorrencia da fatalidade, quanto mais velho, maior as probabilidades.\n",
        "\n",
        "> Ja no terceiro trecho de código podemos observar a média de acido sérico nas pessoas que tiverama a fatalidade que é de 251 mg, enquanto que a media dos pacientes sem fatalidade é de 242 mg. Isso nos mostra que esse é um fator também determinante para definir a aparição de um problema cardiovascular.\n",
        "\n",
        "> Como observamos no gráfico de ponto que existe uma combinação perfeita entre os pacientes desse Dataset, com idades avançadas acima da media de 56 anos e acima da média de colesterol sérico de 251 mg para a aparição de fatalidades.\n",
        "\n",
        "\n",
        "\n"
      ]
    },
    {
      "cell_type": "code",
      "metadata": {
        "id": "p4f9otnRsU_Y",
        "colab_type": "code",
        "colab": {
          "base_uri": "https://localhost:8080/",
          "height": 286
        },
        "outputId": "c1b64279-01b7-4cde-aa07-b9faffd8ceb7"
      },
      "source": [
        "corr = df[['age','sex','chol','thalach','num','oldpeak','exang','slope']].corr() \n",
        "display(corr)"
      ],
      "execution_count": 24,
      "outputs": [
        {
          "output_type": "display_data",
          "data": {
            "text/html": [
              "<div>\n",
              "<style scoped>\n",
              "    .dataframe tbody tr th:only-of-type {\n",
              "        vertical-align: middle;\n",
              "    }\n",
              "\n",
              "    .dataframe tbody tr th {\n",
              "        vertical-align: top;\n",
              "    }\n",
              "\n",
              "    .dataframe thead th {\n",
              "        text-align: right;\n",
              "    }\n",
              "</style>\n",
              "<table border=\"1\" class=\"dataframe\">\n",
              "  <thead>\n",
              "    <tr style=\"text-align: right;\">\n",
              "      <th></th>\n",
              "      <th>age</th>\n",
              "      <th>sex</th>\n",
              "      <th>chol</th>\n",
              "      <th>thalach</th>\n",
              "      <th>num</th>\n",
              "      <th>oldpeak</th>\n",
              "      <th>exang</th>\n",
              "      <th>slope</th>\n",
              "    </tr>\n",
              "  </thead>\n",
              "  <tbody>\n",
              "    <tr>\n",
              "      <th>age</th>\n",
              "      <td>1.000000</td>\n",
              "      <td>-0.097542</td>\n",
              "      <td>0.208950</td>\n",
              "      <td>-0.393806</td>\n",
              "      <td>0.222853</td>\n",
              "      <td>0.203805</td>\n",
              "      <td>0.091661</td>\n",
              "      <td>0.161770</td>\n",
              "    </tr>\n",
              "    <tr>\n",
              "      <th>sex</th>\n",
              "      <td>-0.097542</td>\n",
              "      <td>1.000000</td>\n",
              "      <td>-0.199915</td>\n",
              "      <td>-0.048663</td>\n",
              "      <td>0.224469</td>\n",
              "      <td>0.102173</td>\n",
              "      <td>0.146201</td>\n",
              "      <td>0.037533</td>\n",
              "    </tr>\n",
              "    <tr>\n",
              "      <th>chol</th>\n",
              "      <td>0.208950</td>\n",
              "      <td>-0.199915</td>\n",
              "      <td>1.000000</td>\n",
              "      <td>-0.003432</td>\n",
              "      <td>0.070909</td>\n",
              "      <td>0.046564</td>\n",
              "      <td>0.061310</td>\n",
              "      <td>-0.004062</td>\n",
              "    </tr>\n",
              "    <tr>\n",
              "      <th>thalach</th>\n",
              "      <td>-0.393806</td>\n",
              "      <td>-0.048663</td>\n",
              "      <td>-0.003432</td>\n",
              "      <td>1.000000</td>\n",
              "      <td>-0.415040</td>\n",
              "      <td>-0.343085</td>\n",
              "      <td>-0.378103</td>\n",
              "      <td>-0.385601</td>\n",
              "    </tr>\n",
              "    <tr>\n",
              "      <th>num</th>\n",
              "      <td>0.222853</td>\n",
              "      <td>0.224469</td>\n",
              "      <td>0.070909</td>\n",
              "      <td>-0.415040</td>\n",
              "      <td>1.000000</td>\n",
              "      <td>0.504092</td>\n",
              "      <td>0.397057</td>\n",
              "      <td>0.377957</td>\n",
              "    </tr>\n",
              "    <tr>\n",
              "      <th>oldpeak</th>\n",
              "      <td>0.203805</td>\n",
              "      <td>0.102173</td>\n",
              "      <td>0.046564</td>\n",
              "      <td>-0.343085</td>\n",
              "      <td>0.504092</td>\n",
              "      <td>1.000000</td>\n",
              "      <td>0.288223</td>\n",
              "      <td>0.577537</td>\n",
              "    </tr>\n",
              "    <tr>\n",
              "      <th>exang</th>\n",
              "      <td>0.091661</td>\n",
              "      <td>0.146201</td>\n",
              "      <td>0.061310</td>\n",
              "      <td>-0.378103</td>\n",
              "      <td>0.397057</td>\n",
              "      <td>0.288223</td>\n",
              "      <td>1.000000</td>\n",
              "      <td>0.257748</td>\n",
              "    </tr>\n",
              "    <tr>\n",
              "      <th>slope</th>\n",
              "      <td>0.161770</td>\n",
              "      <td>0.037533</td>\n",
              "      <td>-0.004062</td>\n",
              "      <td>-0.385601</td>\n",
              "      <td>0.377957</td>\n",
              "      <td>0.577537</td>\n",
              "      <td>0.257748</td>\n",
              "      <td>1.000000</td>\n",
              "    </tr>\n",
              "  </tbody>\n",
              "</table>\n",
              "</div>"
            ],
            "text/plain": [
              "              age       sex      chol  ...   oldpeak     exang     slope\n",
              "age      1.000000 -0.097542  0.208950  ...  0.203805  0.091661  0.161770\n",
              "sex     -0.097542  1.000000 -0.199915  ...  0.102173  0.146201  0.037533\n",
              "chol     0.208950 -0.199915  1.000000  ...  0.046564  0.061310 -0.004062\n",
              "thalach -0.393806 -0.048663 -0.003432  ... -0.343085 -0.378103 -0.385601\n",
              "num      0.222853  0.224469  0.070909  ...  0.504092  0.397057  0.377957\n",
              "oldpeak  0.203805  0.102173  0.046564  ...  1.000000  0.288223  0.577537\n",
              "exang    0.091661  0.146201  0.061310  ...  0.288223  1.000000  0.257748\n",
              "slope    0.161770  0.037533 -0.004062  ...  0.577537  0.257748  1.000000\n",
              "\n",
              "[8 rows x 8 columns]"
            ]
          },
          "metadata": {
            "tags": []
          }
        }
      ]
    },
    {
      "cell_type": "code",
      "metadata": {
        "id": "znCdtrmZulA0",
        "colab_type": "code",
        "colab": {
          "base_uri": "https://localhost:8080/",
          "height": 299
        },
        "outputId": "c85188d5-64a0-4fe8-c5c8-ad34a48f7f67"
      },
      "source": [
        " #utilizando a matriz gerada acima vamos plotar um heatmap.\n",
        " sea.heatmap(corr,cmap='RdBu', fmt='.2f', square='true', linecolor='white', annot=True);"
      ],
      "execution_count": 25,
      "outputs": [
        {
          "output_type": "display_data",
          "data": {
            "image/png": "[encoded data removed]",
            "text/plain": [
              "<Figure size 432x288 with 2 Axes>"
            ]
          },
          "metadata": {
            "tags": []
          }
        }
      ]
    },
    {
      "cell_type": "markdown",
      "metadata": {
        "id": "tMaCB9yYvgia",
        "colab_type": "text"
      },
      "source": [
        "> Temos uma relação importante aqui porem obvia entre as variaveis talach e num, a primeira sendo a frequencia maxima atingida e a segunda se houve doença/fatalidade. Essa relação se deve por exemplo a ataques cardiacos no qual a frenquincia do coração é muito alta.\n",
        "\n",
        "> Outra relação importante é se foi atinginda a angina indzudiva por exercicio(`exang`) em relação a variavel `num` que representa a presença de doenças ou não. Se a angina for atingida provavelmente o paciente possui alguma doença."
      ]
    },
    {
      "cell_type": "markdown",
      "metadata": {
        "id": "AL7kUffJyvWN",
        "colab_type": "text"
      },
      "source": [
        "#Conclusão\n",
        "\n",
        "> Nesta análise de dados pudemos ver que as doenças cardiovasculares são sim um problema e está presente em nosso dia a dia sendo uma das principais causas de morte no mundo.\n",
        "\n",
        "> Os fatores que se mostram mais determinantes segundo a análise de dados foram, a idade, sexo do paciente, angina induzida por exercicio e o indice de colesterol sérico do paciente.\n",
        "\n",
        "> Pudemos ver que existem varios fatores que podem ser decisivos para que haja a aparição de uma doença cardiovascular, sendo destacados os do parágrafo anterior podemos concluir que homens de idade mais avaçada, proximos ou na terceira idade são as principais vitimas de  doenças cardiovasculares ao redor do mundo. Sendo assim os pacientes que apresentam essa caracteristica de idade avançada conjunto ao alto nivel de colesterol sérico e angina devem ser tratados com prioridade na triagem de um ponto de atendimento. Assim como as pesquisas para prevenção dessas doenças devem ser voltadas a esse publico.\n",
        "\n",
        "> Para concluir pode-se realizar uma análise mais aprofundada sobre esse caso usando modelos de machine learning que possam através de alguns parametros traçar perfis de individuos com alta probabilidade de possuir doenças e auxilar na triagem de hospitais\n",
        "\n"
      ]
    },
    {
      "cell_type": "code",
      "metadata": {
        "id": "Kdx6iHqt3fVP",
        "colab_type": "code",
        "colab": {}
      },
      "source": [
        ""
      ],
      "execution_count": 0,
      "outputs": []
    }
  ]
}