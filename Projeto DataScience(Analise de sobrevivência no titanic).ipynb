{
  "nbformat": 4,
  "nbformat_minor": 0,
  "metadata": {
    "colab": {
      "name": "Untitled0.ipynb",
      "provenance": [],
      "authorship_tag": "ABX9TyMkzQZJ2sUeON/poJhPPfzY",
      "include_colab_link": true
    },
    "kernelspec": {
      "name": "python3",
      "display_name": "Python 3"
    }
  },
  "cells": [
    {
      "cell_type": "markdown",
      "metadata": {
        "id": "view-in-github",
        "colab_type": "text"
      },
      "source": [
        "<a href=\"https://colab.research.google.com/github/GuilhermeDeAssis123/DataScience/blob/master/Untitled0.ipynb\" target=\"_parent\"><img src=\"https://colab.research.google.com/assets/colab-badge.svg\" alt=\"Open In Colab\"/></a>"
      ]
    },
    {
      "cell_type": "markdown",
      "metadata": {
        "id": "EbOmrGv5yccx",
        "colab_type": "text"
      },
      "source": [
        "# **Análise sobre o naufrágio do Titanic** \n",
        "> Com certeza a maioria das pessoas já ouviram falar sobre o naufrágio mais conhecido da história, o naufrágio do Titanic, que em sua epóca era o maior e mais moderno navio existente. Apesar do seu poderio tecnológio o navio afundou após colidir com um iceberg, matando 1502 dos 2224 passageiros do navio\n",
        "\n",
        "\n",
        "---\n",
        "\n",
        "\n",
        "<center><img src = \"https://aventurasnahistoria.uol.com.br/media/_versions/legacy/2018/04/11/titanic2-0349859403-2203948..capa_widelg.jpg\"></center>\n",
        "\n",
        "\n",
        "---\n",
        "\n",
        ">Sem contar o fato de que no momento do naufrágio constatou-se que não haviam botes salva vidas o suficiente para todos os passageiros da embarcação. Podemos dizer que aqueles que sobreviveram tiveram muita sorte, mas pergunta certa é, **sera que alguns passageiros tiveram mais sorte que outros?**\n",
        "\n",
        "##**1. Objetivo**\n",
        "\n",
        ">Tendo isso em vista o objetivo dessa análise é averiguar qual era a chance de sobrevivencia dos passageiros do navio. Espera-se fazer isso através da verificação de **como as variáveis podem influênciar no resultado final**, ou seja, quais são os fatores determinantes para sobreviver nessa situação.\n",
        ">Também é esperado a construção de um modelo que **dê a previsão de sobrevivência para um passageiro qualquer forcenido via** *input*.\n",
        "\n",
        "---\n",
        "##**2. Obtenção dos Dados**\n",
        "\n",
        "> Os dados foram obtidos a partir da plataforma *Kaggle*, que é uma incentivadora do apremdizado de *machine learning*, e esse é um desafio proposto pela plataforma.\n",
        ">Foram disponibilizados dois DataSet, sendo eles:\n",
        "* DataSet de treino: Esse deve ser o conjunto de dados utilizado para o treinamento e construção do modelo de *machine learning*, responsável por dizer se o passageiro vai sobreviver ou não.\n",
        "* DataSet de teste: Esse sera o conjunto de dados utilizado para análise dos dados.\n",
        "\n",
        "\n"
      ]
    },
    {
      "cell_type": "code",
      "metadata": {
        "id": "XAcYEzg78G6c",
        "colab_type": "code",
        "colab": {}
      },
      "source": [
        "# Importando bibliotecas.\n",
        "import pandas as pd\n",
        "import seaborn as sea\n",
        "import matplotlib.pyplot as plt\n",
        "import numpy as np\n",
        "\n",
        "# Permite mostrar todas as colunas.\n",
        "pd.options.display.max_columns  = None\n",
        "\n",
        "# Renderizar os gráficos no próprio notebook\n",
        "  %matplotlib inline"
      ],
      "execution_count": 0,
      "outputs": []
    },
    {
      "cell_type": "code",
      "metadata": {
        "id": "BLEvKBgH8Vy7",
        "colab_type": "code",
        "colab": {}
      },
      "source": [
        "treino = pd.read_csv('train.csv')\n",
        "teste = pd.read_csv('test.csv')"
      ],
      "execution_count": 0,
      "outputs": []
    }
  ]
}
