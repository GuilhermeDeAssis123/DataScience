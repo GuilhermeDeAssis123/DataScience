{
  "nbformat": 4,
  "nbformat_minor": 0,
  "metadata": {
    "colab": {
      "name": "Projeto de Churn Prediction para uma empresa de Telecomunicações.ipynb",
      "provenance": [],
      "collapsed_sections": [],
      "include_colab_link": true
    },
    "kernelspec": {
      "name": "python3",
      "display_name": "Python 3"
    }
  },
  "cells": [
    {
      "cell_type": "markdown",
      "metadata": {
        "id": "view-in-github",
        "colab_type": "text"
      },
      "source": [
        "<a href=\"https://colab.research.google.com/github/GuilhermeDeAssis123/DataScience/blob/master/Projeto_de_Churn_Prediction_para_uma_empresa_de_Telecomunica%C3%A7%C3%B5es.ipynb\" target=\"_parent\"><img src=\"https://colab.research.google.com/assets/colab-badge.svg\" alt=\"Open In Colab\"/></a>"
      ]
    },
    {
      "cell_type": "markdown",
      "metadata": {
        "id": "IR56trFcPcC1"
      },
      "source": [
        "# Churn Prediction\n",
        "\n",
        "*Churn rate*, ou simplesmente *churn*, representa a taxa de evasão da sua base de clientes. Em serviços como Spotify ou Netflix, ela representaria a taxa de cancelamento de assinaturas.\n",
        "\n",
        "<p align=center>\n",
        "<img src=\"https://raw.githubusercontent.com/carlosfab/dsnp2/master/img/churnrate.jpg\" width=\"60%\"></p>\n",
        "\n",
        "Ela é de extrema importância para a administração e sua análise ao longo do tempo pode mostrar que existe algum problema que deve ser atacado.\n",
        "\n",
        "*Churn* também pode ser usado para identificar potenciais cancelamentos, com um tempo de antecedência, e promover ações direcionadas para tentar reter tais clientes. Essa métrica deve receber atenção pelo fato de que o Custo de Aquisição de Cliente (CAC) é normalmente mais alto que o custo para mantê-los. Ou seja, um alto valor para o *churn rate* é o que não desejamos."
      ]
    },
    {
      "cell_type": "markdown",
      "metadata": {
        "id": "0HVmpIxQWT4Y"
      },
      "source": [
        "## Aquisição dos Dados\n",
        "\n",
        "Os dados utilizados neste projeto foram originalmente disponibilizados na [plataforma de ensino da IBM Developer](https://developer.ibm.com/technologies/data-science/patterns/predict-customer-churn-using-watson-studio-and-jupyter-notebooks/#), e tratam de um problema típico de uma companhia de telecomunicações. O *dataset* completo pode ser encontrado [neste link](https://raw.githubusercontent.com/carlosfab/dsnp2/master/datasets/WA_Fn-UseC_-Telco-Customer-Churn.csv).\n",
        "\n",
        "Apesar de não haver informações explícitas disponíves, os nomes das colunas permitem um entendimento a respeito do problema."
      ]
    },
    {
      "cell_type": "code",
      "metadata": {
        "id": "Ovufm8CgPYNe"
      },
      "source": [
        "# instalar Pandas Profiling\r\n",
        "!pip install scikit-plot -q\r\n",
        "!pip install imbalanced-learn -q"
      ],
      "execution_count": null,
      "outputs": []
    },
    {
      "cell_type": "code",
      "metadata": {
        "id": "oQ4bNy7udtEE",
        "colab": {
          "base_uri": "https://localhost:8080/",
          "height": 299
        },
        "outputId": "8c295d53-8dbd-4bb7-8062-f8732764bf12"
      },
      "source": [
        "# import warnings filter\n",
        "from warnings import simplefilter\n",
        "# ignore all future warnings\n",
        "simplefilter(action='ignore', category=FutureWarning)\n",
        "\n",
        "# importar os pacotes necessários\n",
        "import pandas as pd\n",
        "import numpy as np\n",
        "import matplotlib.pyplot as plt\n",
        "import seaborn as sns\n",
        "from imblearn.under_sampling import RandomUnderSampler\n",
        "from sklearn.metrics import roc_auc_score, accuracy_score, f1_score, confusion_matrix, classification_report\n",
        "from scikitplot.metrics import plot_confusion_matrix, plot_roc\n",
        "from sklearn.preprocessing import StandardScaler, LabelEncoder\n",
        "from sklearn.pipeline import make_pipeline\n",
        "from sklearn.model_selection import train_test_split\n",
        "from sklearn.model_selection import cross_val_score\n",
        "from sklearn.model_selection import StratifiedKFold\n",
        "from sklearn.model_selection import GridSearchCV\n",
        "from sklearn.svm import SVC\n",
        "from lightgbm import LGBMClassifier\n",
        "from sklearn.linear_model import SGDClassifier\n",
        "from sklearn.tree import DecisionTreeClassifier\n",
        "from sklearn.linear_model import LogisticRegression\n",
        "from xgboost import XGBClassifier\n",
        "from sklearn.ensemble import RandomForestClassifier\n",
        "\n",
        "# random seed\n",
        "np.random.seed(42)\n",
        "\n",
        "# importar os dados\n",
        "DATA_PATH = \"https://raw.githubusercontent.com/carlosfab/dsnp2/master/datasets/WA_Fn-UseC_-Telco-Customer-Churn.csv\"\n",
        "df = pd.read_csv(DATA_PATH)\n",
        "\n",
        "# ver as 5 primeiras entradas\n",
        "df.head()"
      ],
      "execution_count": null,
      "outputs": [
        {
          "output_type": "execute_result",
          "data": {
            "text/html": [
              "<div>\n",
              "<style scoped>\n",
              "    .dataframe tbody tr th:only-of-type {\n",
              "        vertical-align: middle;\n",
              "    }\n",
              "\n",
              "    .dataframe tbody tr th {\n",
              "        vertical-align: top;\n",
              "    }\n",
              "\n",
              "    .dataframe thead th {\n",
              "        text-align: right;\n",
              "    }\n",
              "</style>\n",
              "<table border=\"1\" class=\"dataframe\">\n",
              "  <thead>\n",
              "    <tr style=\"text-align: right;\">\n",
              "      <th></th>\n",
              "      <th>customerID</th>\n",
              "      <th>gender</th>\n",
              "      <th>SeniorCitizen</th>\n",
              "      <th>Partner</th>\n",
              "      <th>Dependents</th>\n",
              "      <th>tenure</th>\n",
              "      <th>PhoneService</th>\n",
              "      <th>MultipleLines</th>\n",
              "      <th>InternetService</th>\n",
              "      <th>OnlineSecurity</th>\n",
              "      <th>OnlineBackup</th>\n",
              "      <th>DeviceProtection</th>\n",
              "      <th>TechSupport</th>\n",
              "      <th>StreamingTV</th>\n",
              "      <th>StreamingMovies</th>\n",
              "      <th>Contract</th>\n",
              "      <th>PaperlessBilling</th>\n",
              "      <th>PaymentMethod</th>\n",
              "      <th>MonthlyCharges</th>\n",
              "      <th>TotalCharges</th>\n",
              "      <th>Churn</th>\n",
              "    </tr>\n",
              "  </thead>\n",
              "  <tbody>\n",
              "    <tr>\n",
              "      <th>0</th>\n",
              "      <td>7590-VHVEG</td>\n",
              "      <td>Female</td>\n",
              "      <td>0</td>\n",
              "      <td>Yes</td>\n",
              "      <td>No</td>\n",
              "      <td>1</td>\n",
              "      <td>No</td>\n",
              "      <td>No phone service</td>\n",
              "      <td>DSL</td>\n",
              "      <td>No</td>\n",
              "      <td>Yes</td>\n",
              "      <td>No</td>\n",
              "      <td>No</td>\n",
              "      <td>No</td>\n",
              "      <td>No</td>\n",
              "      <td>Month-to-month</td>\n",
              "      <td>Yes</td>\n",
              "      <td>Electronic check</td>\n",
              "      <td>29.85</td>\n",
              "      <td>29.85</td>\n",
              "      <td>No</td>\n",
              "    </tr>\n",
              "    <tr>\n",
              "      <th>1</th>\n",
              "      <td>5575-GNVDE</td>\n",
              "      <td>Male</td>\n",
              "      <td>0</td>\n",
              "      <td>No</td>\n",
              "      <td>No</td>\n",
              "      <td>34</td>\n",
              "      <td>Yes</td>\n",
              "      <td>No</td>\n",
              "      <td>DSL</td>\n",
              "      <td>Yes</td>\n",
              "      <td>No</td>\n",
              "      <td>Yes</td>\n",
              "      <td>No</td>\n",
              "      <td>No</td>\n",
              "      <td>No</td>\n",
              "      <td>One year</td>\n",
              "      <td>No</td>\n",
              "      <td>Mailed check</td>\n",
              "      <td>56.95</td>\n",
              "      <td>1889.5</td>\n",
              "      <td>No</td>\n",
              "    </tr>\n",
              "    <tr>\n",
              "      <th>2</th>\n",
              "      <td>3668-QPYBK</td>\n",
              "      <td>Male</td>\n",
              "      <td>0</td>\n",
              "      <td>No</td>\n",
              "      <td>No</td>\n",
              "      <td>2</td>\n",
              "      <td>Yes</td>\n",
              "      <td>No</td>\n",
              "      <td>DSL</td>\n",
              "      <td>Yes</td>\n",
              "      <td>Yes</td>\n",
              "      <td>No</td>\n",
              "      <td>No</td>\n",
              "      <td>No</td>\n",
              "      <td>No</td>\n",
              "      <td>Month-to-month</td>\n",
              "      <td>Yes</td>\n",
              "      <td>Mailed check</td>\n",
              "      <td>53.85</td>\n",
              "      <td>108.15</td>\n",
              "      <td>Yes</td>\n",
              "    </tr>\n",
              "    <tr>\n",
              "      <th>3</th>\n",
              "      <td>7795-CFOCW</td>\n",
              "      <td>Male</td>\n",
              "      <td>0</td>\n",
              "      <td>No</td>\n",
              "      <td>No</td>\n",
              "      <td>45</td>\n",
              "      <td>No</td>\n",
              "      <td>No phone service</td>\n",
              "      <td>DSL</td>\n",
              "      <td>Yes</td>\n",
              "      <td>No</td>\n",
              "      <td>Yes</td>\n",
              "      <td>Yes</td>\n",
              "      <td>No</td>\n",
              "      <td>No</td>\n",
              "      <td>One year</td>\n",
              "      <td>No</td>\n",
              "      <td>Bank transfer (automatic)</td>\n",
              "      <td>42.30</td>\n",
              "      <td>1840.75</td>\n",
              "      <td>No</td>\n",
              "    </tr>\n",
              "    <tr>\n",
              "      <th>4</th>\n",
              "      <td>9237-HQITU</td>\n",
              "      <td>Female</td>\n",
              "      <td>0</td>\n",
              "      <td>No</td>\n",
              "      <td>No</td>\n",
              "      <td>2</td>\n",
              "      <td>Yes</td>\n",
              "      <td>No</td>\n",
              "      <td>Fiber optic</td>\n",
              "      <td>No</td>\n",
              "      <td>No</td>\n",
              "      <td>No</td>\n",
              "      <td>No</td>\n",
              "      <td>No</td>\n",
              "      <td>No</td>\n",
              "      <td>Month-to-month</td>\n",
              "      <td>Yes</td>\n",
              "      <td>Electronic check</td>\n",
              "      <td>70.70</td>\n",
              "      <td>151.65</td>\n",
              "      <td>Yes</td>\n",
              "    </tr>\n",
              "  </tbody>\n",
              "</table>\n",
              "</div>"
            ],
            "text/plain": [
              "   customerID  gender  SeniorCitizen  ... MonthlyCharges TotalCharges  Churn\n",
              "0  7590-VHVEG  Female              0  ...          29.85        29.85     No\n",
              "1  5575-GNVDE    Male              0  ...          56.95       1889.5     No\n",
              "2  3668-QPYBK    Male              0  ...          53.85       108.15    Yes\n",
              "3  7795-CFOCW    Male              0  ...          42.30      1840.75     No\n",
              "4  9237-HQITU  Female              0  ...          70.70       151.65    Yes\n",
              "\n",
              "[5 rows x 21 columns]"
            ]
          },
          "metadata": {
            "tags": []
          },
          "execution_count": 59
        }
      ]
    },
    {
      "cell_type": "markdown",
      "metadata": {
        "id": "qfyIEIcdQQPA"
      },
      "source": [
        "> Mostrando as 5 primeiras entradas do *dataset* podemos ter uma noção de como as informações estão dispostas. Apesar de não termos um dicionario de *features* podemos inferir do que se tratam as colunas, uma vez que as empresas de telecomunicações são parecidas.\r\n",
        "\r\n",
        "> Vamos verificar a quantidade de informações que temos:"
      ]
    },
    {
      "cell_type": "code",
      "metadata": {
        "id": "Mh_RVIJMQxHR",
        "colab": {
          "base_uri": "https://localhost:8080/"
        },
        "outputId": "197bcb43-e24a-4a95-ab19-ffbcaa8f9f31"
      },
      "source": [
        "print('Número de linhas: {}'.format(df.shape[0]))\r\n",
        "print('Número de colunas: {}'.format(df.shape[1]))"
      ],
      "execution_count": null,
      "outputs": [
        {
          "output_type": "stream",
          "text": [
            "Número de linhas: 7043\n",
            "Número de colunas: 21\n"
          ],
          "name": "stdout"
        }
      ]
    },
    {
      "cell_type": "markdown",
      "metadata": {
        "id": "8STcqubGROyC"
      },
      "source": [
        "> Podemos ver que o nosso conjunto de dados é composto por 7043 linhas de entrada por 22 colunas de variáeis.\r\n",
        "\r\n",
        "### Análise Exploratória\r\n",
        "\r\n",
        "> Nesta estapa iremos realizar um pente fino nos dados a fim de conhecer melhor as informações com que estamos lidando, o principal objetivo nesta etapa é conhecer os dados e encontrar possíveis ruidos de informção que possam comprometer a nossa análise, além de levantar algumas hipóteses.\r\n",
        "\r\n",
        "> O nosso primeiro passo é verificar a integridade dos nossos dados, para isso vamos ver a porção de informação ausente que temos em cada uma das colunas:"
      ]
    },
    {
      "cell_type": "code",
      "metadata": {
        "id": "dQFBrQWkSiZp",
        "colab": {
          "base_uri": "https://localhost:8080/"
        },
        "outputId": "30b56dbe-6d59-457d-ddc5-67ca44e05f1b"
      },
      "source": [
        "(df.isnull().sum()/df.shape[0]).sort_values(ascending=False)\r\n"
      ],
      "execution_count": null,
      "outputs": [
        {
          "output_type": "execute_result",
          "data": {
            "text/plain": [
              "Churn               0.0\n",
              "OnlineSecurity      0.0\n",
              "gender              0.0\n",
              "SeniorCitizen       0.0\n",
              "Partner             0.0\n",
              "Dependents          0.0\n",
              "tenure              0.0\n",
              "PhoneService        0.0\n",
              "MultipleLines       0.0\n",
              "InternetService     0.0\n",
              "OnlineBackup        0.0\n",
              "TotalCharges        0.0\n",
              "DeviceProtection    0.0\n",
              "TechSupport         0.0\n",
              "StreamingTV         0.0\n",
              "StreamingMovies     0.0\n",
              "Contract            0.0\n",
              "PaperlessBilling    0.0\n",
              "PaymentMethod       0.0\n",
              "MonthlyCharges      0.0\n",
              "customerID          0.0\n",
              "dtype: float64"
            ]
          },
          "metadata": {
            "tags": []
          },
          "execution_count": 61
        }
      ]
    },
    {
      "cell_type": "markdown",
      "metadata": {
        "id": "i1K9LzW7Te94"
      },
      "source": [
        "> Pode-se observar que não existem informações ausentes, do tipo `NaN`, isso nos indica que não será necessário nenhum tipo de preenchimento de dados. Vamos olhar agora quais são os tipos de cada coluna, e verificar se existe alguma coluna que está com tipo incorreto."
      ]
    },
    {
      "cell_type": "code",
      "metadata": {
        "id": "rjWboWCVT_O-",
        "colab": {
          "base_uri": "https://localhost:8080/"
        },
        "outputId": "811565d0-7db5-48fe-9ec6-bc89688dba29"
      },
      "source": [
        "df.dtypes"
      ],
      "execution_count": null,
      "outputs": [
        {
          "output_type": "execute_result",
          "data": {
            "text/plain": [
              "customerID           object\n",
              "gender               object\n",
              "SeniorCitizen         int64\n",
              "Partner              object\n",
              "Dependents           object\n",
              "tenure                int64\n",
              "PhoneService         object\n",
              "MultipleLines        object\n",
              "InternetService      object\n",
              "OnlineSecurity       object\n",
              "OnlineBackup         object\n",
              "DeviceProtection     object\n",
              "TechSupport          object\n",
              "StreamingTV          object\n",
              "StreamingMovies      object\n",
              "Contract             object\n",
              "PaperlessBilling     object\n",
              "PaymentMethod        object\n",
              "MonthlyCharges      float64\n",
              "TotalCharges         object\n",
              "Churn                object\n",
              "dtype: object"
            ]
          },
          "metadata": {
            "tags": []
          },
          "execution_count": 62
        }
      ]
    },
    {
      "cell_type": "markdown",
      "metadata": {
        "id": "H2u9l_EaUcKw"
      },
      "source": [
        "> Observe que a coluna `TotalCharges` apresenta valores do tipo **flutuante**, porém está classificada como **Object**, dessa forma teremos que ajustar o tipo dessa coluna. As demais colunas estão em seus devidos tipos, temos então pós mudança:\r\n",
        "\r\n",
        "* 17 colunas do tipo String\r\n",
        "* 2 colunas do tipo float\r\n",
        "* 2 colunas do tipo int\r\n",
        "\r\n",
        "> Vamos agora ver os valores únicos por coluna:"
      ]
    },
    {
      "cell_type": "code",
      "metadata": {
        "id": "z7yiQj6rV6G0",
        "colab": {
          "base_uri": "https://localhost:8080/"
        },
        "outputId": "ea39f4db-7ca1-4c90-a61f-650715c83608"
      },
      "source": [
        "df.nunique()"
      ],
      "execution_count": null,
      "outputs": [
        {
          "output_type": "execute_result",
          "data": {
            "text/plain": [
              "customerID          7043\n",
              "gender                 2\n",
              "SeniorCitizen          2\n",
              "Partner                2\n",
              "Dependents             2\n",
              "tenure                73\n",
              "PhoneService           2\n",
              "MultipleLines          3\n",
              "InternetService        3\n",
              "OnlineSecurity         3\n",
              "OnlineBackup           3\n",
              "DeviceProtection       3\n",
              "TechSupport            3\n",
              "StreamingTV            3\n",
              "StreamingMovies        3\n",
              "Contract               3\n",
              "PaperlessBilling       2\n",
              "PaymentMethod          4\n",
              "MonthlyCharges      1585\n",
              "TotalCharges        6531\n",
              "Churn                  2\n",
              "dtype: int64"
            ]
          },
          "metadata": {
            "tags": []
          },
          "execution_count": 63
        }
      ]
    },
    {
      "cell_type": "markdown",
      "metadata": {
        "id": "8TYrnT52WLSS"
      },
      "source": [
        "> Pontos interessantes a se observar:\r\n",
        "* A coluna **costumerID** serve somente para identificar cada entrada, de forma que não agrega valor a nossa análise, assim ela sera excluída logo a frente.\r\n",
        "* Existem muitas variáveis que posteriormente devem ser convertidas em **INT** para facilitar a análise e compreensão do modelo. \r\n",
        "* A nossa variável **alvo** é a coluna **churn**.\r\n",
        "\r\n",
        "\r\n"
      ]
    },
    {
      "cell_type": "code",
      "metadata": {
        "id": "PhAB7K_LXwVh"
      },
      "source": [
        "#df[\"TotalCharges\"].astype('float32')"
      ],
      "execution_count": null,
      "outputs": []
    },
    {
      "cell_type": "markdown",
      "metadata": {
        "id": "SZYjXOktZvaa"
      },
      "source": [
        "> No momento de transformar a coluna `TotalCharges` em **float**, obteve-se um erro, mostrando que uma ou mais strings não puderam ser convertidas, logo, essas não são números. Vamos verificar as linhas para ver do que se trata."
      ]
    },
    {
      "cell_type": "code",
      "metadata": {
        "id": "IL8-C6muYpgp"
      },
      "source": [
        "# Mostrar todas as linhas.\r\n",
        "pd.set_option('display.max_rows', df.shape[0]+1)"
      ],
      "execution_count": null,
      "outputs": []
    },
    {
      "cell_type": "code",
      "metadata": {
        "colab": {
          "base_uri": "https://localhost:8080/"
        },
        "id": "nIHP9Sj-oqur",
        "outputId": "b46ae2fc-aa48-4d4a-ac8f-b41fcbc26080"
      },
      "source": [
        " \"\"\"\r\n",
        "    Converte um objeto do tipo string em float.\r\n",
        "\r\n",
        "    # Arguments\r\n",
        "        entrada: string, string da coluna TotalCharges.\r\n",
        "\r\n",
        "    # Returns\r\n",
        "        Valor convertido em float, caso permita a conversão.\r\n",
        "        NaN, caso o valor não seja apropriado.\r\n",
        "    \"\"\"\r\n",
        "\r\n",
        "\r\n",
        "def converter_str_float(entrada):\r\n",
        "   \r\n",
        "    try:\r\n",
        "        return float(entrada)\r\n",
        "    except ValueError:\r\n",
        "        return np.nan\r\n",
        "\r\n",
        "# criar cópia do dataframe\r\n",
        "df_clean = df.copy()\r\n",
        "\r\n",
        "# remover coluna costumerID\r\n",
        "df_clean.drop(\"customerID\", axis=1, inplace=True)\r\n",
        "\r\n",
        "# converter as strings de TotalCharges para float\r\n",
        "df_clean[\"TotalCharges\"] = df_clean[\"TotalCharges\"].apply(converter_str_float)\r\n",
        "\r\n",
        "# verificar entradas ausentes\r\n",
        "print(\"Dados ausentes em 'TotalCharges' (antes):\\t{}\\n\".format(df_clean[\"TotalCharges\"].isnull().sum()))\r\n",
        "\r\n",
        "# substituir os dados ausentes pelo valor da mediana\r\n",
        "TotalChargesMedian = df_clean.TotalCharges.median()\r\n",
        "df_clean[\"TotalCharges\"].fillna(TotalChargesMedian, inplace=True)"
      ],
      "execution_count": null,
      "outputs": [
        {
          "output_type": "stream",
          "text": [
            "Dados ausentes em 'TotalCharges' (antes):\t11\n",
            "\n"
          ],
          "name": "stdout"
        }
      ]
    },
    {
      "cell_type": "markdown",
      "metadata": {
        "id": "MP5v5BRoph2E"
      },
      "source": [
        "> Pode-se observar que 11 das entradas estavam com valores nulos.\r\n",
        "\r\n",
        "> Vamos agora observar o resumo estatístico dos nossos dado, com o intuito de verificar a existência de outliers:"
      ]
    },
    {
      "cell_type": "code",
      "metadata": {
        "colab": {
          "base_uri": "https://localhost:8080/",
          "height": 284
        },
        "id": "rSeIes7lqg99",
        "outputId": "9dedecc5-19fc-4495-c5ba-2d25ff9f208e"
      },
      "source": [
        "df_clean.describe()"
      ],
      "execution_count": null,
      "outputs": [
        {
          "output_type": "execute_result",
          "data": {
            "text/html": [
              "<div>\n",
              "<style scoped>\n",
              "    .dataframe tbody tr th:only-of-type {\n",
              "        vertical-align: middle;\n",
              "    }\n",
              "\n",
              "    .dataframe tbody tr th {\n",
              "        vertical-align: top;\n",
              "    }\n",
              "\n",
              "    .dataframe thead th {\n",
              "        text-align: right;\n",
              "    }\n",
              "</style>\n",
              "<table border=\"1\" class=\"dataframe\">\n",
              "  <thead>\n",
              "    <tr style=\"text-align: right;\">\n",
              "      <th></th>\n",
              "      <th>SeniorCitizen</th>\n",
              "      <th>tenure</th>\n",
              "      <th>MonthlyCharges</th>\n",
              "      <th>TotalCharges</th>\n",
              "    </tr>\n",
              "  </thead>\n",
              "  <tbody>\n",
              "    <tr>\n",
              "      <th>count</th>\n",
              "      <td>7043.000000</td>\n",
              "      <td>7043.000000</td>\n",
              "      <td>7043.000000</td>\n",
              "      <td>7043.000000</td>\n",
              "    </tr>\n",
              "    <tr>\n",
              "      <th>mean</th>\n",
              "      <td>0.162147</td>\n",
              "      <td>32.371149</td>\n",
              "      <td>64.761692</td>\n",
              "      <td>2281.916928</td>\n",
              "    </tr>\n",
              "    <tr>\n",
              "      <th>std</th>\n",
              "      <td>0.368612</td>\n",
              "      <td>24.559481</td>\n",
              "      <td>30.090047</td>\n",
              "      <td>2265.270398</td>\n",
              "    </tr>\n",
              "    <tr>\n",
              "      <th>min</th>\n",
              "      <td>0.000000</td>\n",
              "      <td>0.000000</td>\n",
              "      <td>18.250000</td>\n",
              "      <td>18.800000</td>\n",
              "    </tr>\n",
              "    <tr>\n",
              "      <th>25%</th>\n",
              "      <td>0.000000</td>\n",
              "      <td>9.000000</td>\n",
              "      <td>35.500000</td>\n",
              "      <td>402.225000</td>\n",
              "    </tr>\n",
              "    <tr>\n",
              "      <th>50%</th>\n",
              "      <td>0.000000</td>\n",
              "      <td>29.000000</td>\n",
              "      <td>70.350000</td>\n",
              "      <td>1397.475000</td>\n",
              "    </tr>\n",
              "    <tr>\n",
              "      <th>75%</th>\n",
              "      <td>0.000000</td>\n",
              "      <td>55.000000</td>\n",
              "      <td>89.850000</td>\n",
              "      <td>3786.600000</td>\n",
              "    </tr>\n",
              "    <tr>\n",
              "      <th>max</th>\n",
              "      <td>1.000000</td>\n",
              "      <td>72.000000</td>\n",
              "      <td>118.750000</td>\n",
              "      <td>8684.800000</td>\n",
              "    </tr>\n",
              "  </tbody>\n",
              "</table>\n",
              "</div>"
            ],
            "text/plain": [
              "       SeniorCitizen       tenure  MonthlyCharges  TotalCharges\n",
              "count    7043.000000  7043.000000     7043.000000   7043.000000\n",
              "mean        0.162147    32.371149       64.761692   2281.916928\n",
              "std         0.368612    24.559481       30.090047   2265.270398\n",
              "min         0.000000     0.000000       18.250000     18.800000\n",
              "25%         0.000000     9.000000       35.500000    402.225000\n",
              "50%         0.000000    29.000000       70.350000   1397.475000\n",
              "75%         0.000000    55.000000       89.850000   3786.600000\n",
              "max         1.000000    72.000000      118.750000   8684.800000"
            ]
          },
          "metadata": {
            "tags": []
          },
          "execution_count": 68
        }
      ]
    },
    {
      "cell_type": "markdown",
      "metadata": {
        "id": "XPrCK7CwqvmE"
      },
      "source": [
        "> Aparentemente não possuimos outliers, vamos plotar os boxplots das variáveis para verificar a hipótese."
      ]
    },
    {
      "cell_type": "code",
      "metadata": {
        "colab": {
          "base_uri": "https://localhost:8080/",
          "height": 369
        },
        "id": "lm_EidY_q-3L",
        "outputId": "08401590-e796-4aeb-e1db-81c84f3fc0e3"
      },
      "source": [
        "fig, ax = plt.subplots(nrows = 1, ncols= 2, figsize=(10,5))\r\n",
        "sns.boxplot(df_clean['MonthlyCharges'],ax=ax[0])\r\n",
        "sns.boxplot(df_clean['TotalCharges'],ax=ax[1])\r\n",
        "plt.tight_layout()\r\n"
      ],
      "execution_count": null,
      "outputs": [
        {
          "output_type": "display_data",
          "data": {
            "image/png": "[encoded data removed]",
            "text/plain": [
              "<Figure size 720x360 with 2 Axes>"
            ]
          },
          "metadata": {
            "tags": [],
            "needs_background": "light"
          }
        }
      ]
    },
    {
      "cell_type": "markdown",
      "metadata": {
        "id": "Sejq87qYr82s"
      },
      "source": [
        "> Como podemos observar não existem pontos antes do primeiro quartíl, e nem depois do quarto quartíl. Dessa maneira não presença de outliers.\r\n",
        "\r\n",
        "> Vamos agora observar a coluna `tenure`. Pelo que tudo indica essa *feature* diz respeito a quantidade de tempo que o cliente está com a empresa.\r\n",
        "\r\n",
        ">Apesar de não haver nenhuma documentação, assumo que a unidade de tempo utilizada é \"mês\"."
      ]
    },
    {
      "cell_type": "code",
      "metadata": {
        "colab": {
          "base_uri": "https://localhost:8080/",
          "height": 297
        },
        "id": "ixZWbDwawG-H",
        "outputId": "490a2db4-fd86-48d0-dd5e-39d9c8956c3f"
      },
      "source": [
        "fig, ax = plt.subplots(figsize=(12, 4))\r\n",
        "sns.countplot(df['tenure'])\r\n",
        "plt.tight_layout()"
      ],
      "execution_count": null,
      "outputs": [
        {
          "output_type": "display_data",
          "data": {
            "image/png": "[encoded data removed]",
            "text/plain": [
              "<Figure size 864x288 with 1 Axes>"
            ]
          },
          "metadata": {
            "tags": [],
            "needs_background": "light"
          }
        }
      ]
    },
    {
      "cell_type": "markdown",
      "metadata": {
        "id": "9qWRjAsZzCri"
      },
      "source": [
        "## Preparando dados para o modelo"
      ]
    },
    {
      "cell_type": "markdown",
      "metadata": {
        "id": "niy0FMbO_bhy"
      },
      "source": [
        "> Aqui vamos substiuir todos os dados que irão passar pelo modelo por números, assim esse poderá interprertar os dados e trazer algumas previsões para o usuário.\r\n"
      ]
    },
    {
      "cell_type": "code",
      "metadata": {
        "colab": {
          "base_uri": "https://localhost:8080/",
          "height": 249
        },
        "id": "cT8MuPw6y82q",
        "outputId": "43db5776-e75a-4357-d048-9c9695cc68bb"
      },
      "source": [
        "# pré processar as variáveis\r\n",
        "binary_var = df_clean.nunique()[df_clean.nunique() == 2].keys().tolist()\r\n",
        "num_var = [col for col in df_clean.select_dtypes(['int', 'float']).columns.tolist() if col not in binary_var]\r\n",
        "cat_var = [col for col in df_clean.columns.tolist() if col not in binary_var + num_var]\r\n",
        "\r\n",
        "# criar uma cópia do dataframe\r\n",
        "df_proc = df_clean.copy()\r\n",
        "\r\n",
        "# Label Encoding para as variáveis Binárias\r\n",
        "le = LabelEncoder()\r\n",
        "for i in binary_var:\r\n",
        "    df_proc[i] = le.fit_transform(df_proc[i])\r\n",
        "\r\n",
        "# Encoding para colunas categóricas com múltiplas classes\r\n",
        "df_proc = pd.get_dummies(df_proc, columns=cat_var)\r\n",
        "\r\n",
        "# ver as 5 primeiras entradas do novo dataframe\r\n",
        "df_proc.head()"
      ],
      "execution_count": null,
      "outputs": [
        {
          "output_type": "execute_result",
          "data": {
            "text/html": [
              "<div>\n",
              "<style scoped>\n",
              "    .dataframe tbody tr th:only-of-type {\n",
              "        vertical-align: middle;\n",
              "    }\n",
              "\n",
              "    .dataframe tbody tr th {\n",
              "        vertical-align: top;\n",
              "    }\n",
              "\n",
              "    .dataframe thead th {\n",
              "        text-align: right;\n",
              "    }\n",
              "</style>\n",
              "<table border=\"1\" class=\"dataframe\">\n",
              "  <thead>\n",
              "    <tr style=\"text-align: right;\">\n",
              "      <th></th>\n",
              "      <th>gender</th>\n",
              "      <th>SeniorCitizen</th>\n",
              "      <th>Partner</th>\n",
              "      <th>Dependents</th>\n",
              "      <th>tenure</th>\n",
              "      <th>PhoneService</th>\n",
              "      <th>PaperlessBilling</th>\n",
              "      <th>MonthlyCharges</th>\n",
              "      <th>TotalCharges</th>\n",
              "      <th>Churn</th>\n",
              "      <th>MultipleLines_No</th>\n",
              "      <th>MultipleLines_No phone service</th>\n",
              "      <th>MultipleLines_Yes</th>\n",
              "      <th>InternetService_DSL</th>\n",
              "      <th>InternetService_Fiber optic</th>\n",
              "      <th>InternetService_No</th>\n",
              "      <th>OnlineSecurity_No</th>\n",
              "      <th>OnlineSecurity_No internet service</th>\n",
              "      <th>OnlineSecurity_Yes</th>\n",
              "      <th>OnlineBackup_No</th>\n",
              "      <th>OnlineBackup_No internet service</th>\n",
              "      <th>OnlineBackup_Yes</th>\n",
              "      <th>DeviceProtection_No</th>\n",
              "      <th>DeviceProtection_No internet service</th>\n",
              "      <th>DeviceProtection_Yes</th>\n",
              "      <th>TechSupport_No</th>\n",
              "      <th>TechSupport_No internet service</th>\n",
              "      <th>TechSupport_Yes</th>\n",
              "      <th>StreamingTV_No</th>\n",
              "      <th>StreamingTV_No internet service</th>\n",
              "      <th>StreamingTV_Yes</th>\n",
              "      <th>StreamingMovies_No</th>\n",
              "      <th>StreamingMovies_No internet service</th>\n",
              "      <th>StreamingMovies_Yes</th>\n",
              "      <th>Contract_Month-to-month</th>\n",
              "      <th>Contract_One year</th>\n",
              "      <th>Contract_Two year</th>\n",
              "      <th>PaymentMethod_Bank transfer (automatic)</th>\n",
              "      <th>PaymentMethod_Credit card (automatic)</th>\n",
              "      <th>PaymentMethod_Electronic check</th>\n",
              "      <th>PaymentMethod_Mailed check</th>\n",
              "    </tr>\n",
              "  </thead>\n",
              "  <tbody>\n",
              "    <tr>\n",
              "      <th>0</th>\n",
              "      <td>0</td>\n",
              "      <td>0</td>\n",
              "      <td>1</td>\n",
              "      <td>0</td>\n",
              "      <td>1</td>\n",
              "      <td>0</td>\n",
              "      <td>1</td>\n",
              "      <td>29.85</td>\n",
              "      <td>29.85</td>\n",
              "      <td>0</td>\n",
              "      <td>0</td>\n",
              "      <td>1</td>\n",
              "      <td>0</td>\n",
              "      <td>1</td>\n",
              "      <td>0</td>\n",
              "      <td>0</td>\n",
              "      <td>1</td>\n",
              "      <td>0</td>\n",
              "      <td>0</td>\n",
              "      <td>0</td>\n",
              "      <td>0</td>\n",
              "      <td>1</td>\n",
              "      <td>1</td>\n",
              "      <td>0</td>\n",
              "      <td>0</td>\n",
              "      <td>1</td>\n",
              "      <td>0</td>\n",
              "      <td>0</td>\n",
              "      <td>1</td>\n",
              "      <td>0</td>\n",
              "      <td>0</td>\n",
              "      <td>1</td>\n",
              "      <td>0</td>\n",
              "      <td>0</td>\n",
              "      <td>1</td>\n",
              "      <td>0</td>\n",
              "      <td>0</td>\n",
              "      <td>0</td>\n",
              "      <td>0</td>\n",
              "      <td>1</td>\n",
              "      <td>0</td>\n",
              "    </tr>\n",
              "    <tr>\n",
              "      <th>1</th>\n",
              "      <td>1</td>\n",
              "      <td>0</td>\n",
              "      <td>0</td>\n",
              "      <td>0</td>\n",
              "      <td>34</td>\n",
              "      <td>1</td>\n",
              "      <td>0</td>\n",
              "      <td>56.95</td>\n",
              "      <td>1889.50</td>\n",
              "      <td>0</td>\n",
              "      <td>1</td>\n",
              "      <td>0</td>\n",
              "      <td>0</td>\n",
              "      <td>1</td>\n",
              "      <td>0</td>\n",
              "      <td>0</td>\n",
              "      <td>0</td>\n",
              "      <td>0</td>\n",
              "      <td>1</td>\n",
              "      <td>1</td>\n",
              "      <td>0</td>\n",
              "      <td>0</td>\n",
              "      <td>0</td>\n",
              "      <td>0</td>\n",
              "      <td>1</td>\n",
              "      <td>1</td>\n",
              "      <td>0</td>\n",
              "      <td>0</td>\n",
              "      <td>1</td>\n",
              "      <td>0</td>\n",
              "      <td>0</td>\n",
              "      <td>1</td>\n",
              "      <td>0</td>\n",
              "      <td>0</td>\n",
              "      <td>0</td>\n",
              "      <td>1</td>\n",
              "      <td>0</td>\n",
              "      <td>0</td>\n",
              "      <td>0</td>\n",
              "      <td>0</td>\n",
              "      <td>1</td>\n",
              "    </tr>\n",
              "    <tr>\n",
              "      <th>2</th>\n",
              "      <td>1</td>\n",
              "      <td>0</td>\n",
              "      <td>0</td>\n",
              "      <td>0</td>\n",
              "      <td>2</td>\n",
              "      <td>1</td>\n",
              "      <td>1</td>\n",
              "      <td>53.85</td>\n",
              "      <td>108.15</td>\n",
              "      <td>1</td>\n",
              "      <td>1</td>\n",
              "      <td>0</td>\n",
              "      <td>0</td>\n",
              "      <td>1</td>\n",
              "      <td>0</td>\n",
              "      <td>0</td>\n",
              "      <td>0</td>\n",
              "      <td>0</td>\n",
              "      <td>1</td>\n",
              "      <td>0</td>\n",
              "      <td>0</td>\n",
              "      <td>1</td>\n",
              "      <td>1</td>\n",
              "      <td>0</td>\n",
              "      <td>0</td>\n",
              "      <td>1</td>\n",
              "      <td>0</td>\n",
              "      <td>0</td>\n",
              "      <td>1</td>\n",
              "      <td>0</td>\n",
              "      <td>0</td>\n",
              "      <td>1</td>\n",
              "      <td>0</td>\n",
              "      <td>0</td>\n",
              "      <td>1</td>\n",
              "      <td>0</td>\n",
              "      <td>0</td>\n",
              "      <td>0</td>\n",
              "      <td>0</td>\n",
              "      <td>0</td>\n",
              "      <td>1</td>\n",
              "    </tr>\n",
              "    <tr>\n",
              "      <th>3</th>\n",
              "      <td>1</td>\n",
              "      <td>0</td>\n",
              "      <td>0</td>\n",
              "      <td>0</td>\n",
              "      <td>45</td>\n",
              "      <td>0</td>\n",
              "      <td>0</td>\n",
              "      <td>42.30</td>\n",
              "      <td>1840.75</td>\n",
              "      <td>0</td>\n",
              "      <td>0</td>\n",
              "      <td>1</td>\n",
              "      <td>0</td>\n",
              "      <td>1</td>\n",
              "      <td>0</td>\n",
              "      <td>0</td>\n",
              "      <td>0</td>\n",
              "      <td>0</td>\n",
              "      <td>1</td>\n",
              "      <td>1</td>\n",
              "      <td>0</td>\n",
              "      <td>0</td>\n",
              "      <td>0</td>\n",
              "      <td>0</td>\n",
              "      <td>1</td>\n",
              "      <td>0</td>\n",
              "      <td>0</td>\n",
              "      <td>1</td>\n",
              "      <td>1</td>\n",
              "      <td>0</td>\n",
              "      <td>0</td>\n",
              "      <td>1</td>\n",
              "      <td>0</td>\n",
              "      <td>0</td>\n",
              "      <td>0</td>\n",
              "      <td>1</td>\n",
              "      <td>0</td>\n",
              "      <td>1</td>\n",
              "      <td>0</td>\n",
              "      <td>0</td>\n",
              "      <td>0</td>\n",
              "    </tr>\n",
              "    <tr>\n",
              "      <th>4</th>\n",
              "      <td>0</td>\n",
              "      <td>0</td>\n",
              "      <td>0</td>\n",
              "      <td>0</td>\n",
              "      <td>2</td>\n",
              "      <td>1</td>\n",
              "      <td>1</td>\n",
              "      <td>70.70</td>\n",
              "      <td>151.65</td>\n",
              "      <td>1</td>\n",
              "      <td>1</td>\n",
              "      <td>0</td>\n",
              "      <td>0</td>\n",
              "      <td>0</td>\n",
              "      <td>1</td>\n",
              "      <td>0</td>\n",
              "      <td>1</td>\n",
              "      <td>0</td>\n",
              "      <td>0</td>\n",
              "      <td>1</td>\n",
              "      <td>0</td>\n",
              "      <td>0</td>\n",
              "      <td>1</td>\n",
              "      <td>0</td>\n",
              "      <td>0</td>\n",
              "      <td>1</td>\n",
              "      <td>0</td>\n",
              "      <td>0</td>\n",
              "      <td>1</td>\n",
              "      <td>0</td>\n",
              "      <td>0</td>\n",
              "      <td>1</td>\n",
              "      <td>0</td>\n",
              "      <td>0</td>\n",
              "      <td>1</td>\n",
              "      <td>0</td>\n",
              "      <td>0</td>\n",
              "      <td>0</td>\n",
              "      <td>0</td>\n",
              "      <td>1</td>\n",
              "      <td>0</td>\n",
              "    </tr>\n",
              "  </tbody>\n",
              "</table>\n",
              "</div>"
            ],
            "text/plain": [
              "   gender  ...  PaymentMethod_Mailed check\n",
              "0       0  ...                           0\n",
              "1       1  ...                           1\n",
              "2       1  ...                           1\n",
              "3       1  ...                           0\n",
              "4       0  ...                           0\n",
              "\n",
              "[5 rows x 41 columns]"
            ]
          },
          "metadata": {
            "tags": []
          },
          "execution_count": 71
        }
      ]
    },
    {
      "cell_type": "markdown",
      "metadata": {
        "id": "gYHCOcoMziQV"
      },
      "source": [
        "## Modelo de ML"
      ]
    },
    {
      "cell_type": "markdown",
      "metadata": {
        "id": "hG1EyRDk_8di"
      },
      "source": [
        "> Uma vez que os dados estão tratados podemos agora iniciar os trabalhos na criação do modelo. A primeira coisa a ser feita é separar os dados em conjuntos de teste e de treino."
      ]
    },
    {
      "cell_type": "code",
      "metadata": {
        "id": "idz0HrQlz1o1"
      },
      "source": [
        "# separar a feature matrix da target vector\r\n",
        "X = df_proc.drop('Churn', axis=1)\r\n",
        "y = df_proc['Churn']\r\n",
        "\r\n",
        "# dividir os dados entre treino e teste.\r\n",
        "X_train, X_test, y_train, y_test = train_test_split(X, y)"
      ],
      "execution_count": null,
      "outputs": []
    },
    {
      "cell_type": "code",
      "metadata": {
        "id": "FGSM4HGa0P5V"
      },
      "source": [
        "    \"\"\"\r\n",
        "    Realiza cross-validation com os dados de treino para determinado modelo.\r\n",
        "\r\n",
        "    # Arguments\r\n",
        "        X: DataFrame, contém as variáveis independetes.\r\n",
        "        y: Series, vetor contendo a variável alvo.\r\n",
        "        clf: modelo classificador do Scikit-learn.\r\n",
        "        quite: bool, indicando se a função deve imprimir os resultados ou não.\r\n",
        "\r\n",
        "    # Returns\r\n",
        "        float, média dos scores da cross-validation.\r\n",
        "    \"\"\"\r\n",
        "\r\n",
        "def val_model(X, y, clf, quite=False):\r\n",
        "    \r\n",
        "    X = np.array(X)\r\n",
        "    y = np.array(y)\r\n",
        "\r\n",
        "    pipeline = make_pipeline(StandardScaler(), clf)\r\n",
        "    scores = cross_val_score(pipeline, X, y, scoring='f1')\r\n",
        "\r\n",
        "    if quite == False:\r\n",
        "        print(\"f1_score: {:.2f} (+/- {:.2f})\".format(scores.mean(), scores.std()))\r\n",
        "    \r\n",
        "    return scores.mean()"
      ],
      "execution_count": null,
      "outputs": []
    },
    {
      "cell_type": "markdown",
      "metadata": {
        "id": "s_VsnnFjAj5N"
      },
      "source": [
        "> Nesta etapa vamos normalizar os dados de forma que a previsão do modelo fique mais acertivo.\r\n",
        "\r\n",
        "*  **IMPORTANTE:** Somente os dados de treino devem ser normalizados, para que seja mais efetivo o treinamento do modelo. Os dados de teste devem permanecer desafiadores como os dados do dia a dia."
      ]
    },
    {
      "cell_type": "code",
      "metadata": {
        "id": "kjnS1V5n1qrb"
      },
      "source": [
        "#  padronizar os  dados,\r\n",
        "scaler = StandardScaler().fit(X_train)\r\n",
        "X_train = scaler.transform(X_train)\r\n",
        "\r\n",
        "rus = RandomUnderSampler()\r\n",
        "X_train_rus, y_train_rus = rus.fit_sample(X_train, y_train)"
      ],
      "execution_count": null,
      "outputs": []
    },
    {
      "cell_type": "markdown",
      "metadata": {
        "id": "NpQiO-MpA5E8"
      },
      "source": [
        "> Nesta etapa vamos descobrir quais são os melhores valores dos hiperparametros do modelo de XGBoost(modelo que vamos utilizar), vamos adotar a estratégia de buscar um paramentro por vez, assim não vamos sobre carregar a máquina.\r\n",
        "\r\n",
        "**Hiperparamentros**\r\n",
        "\r\n",
        "* learning_rate\r\n",
        "* n_estimators\r\n",
        "* max_depth \r\n",
        "* min_child_weight\r\n",
        "* gamma"
      ]
    },
    {
      "cell_type": "code",
      "metadata": {
        "colab": {
          "base_uri": "https://localhost:8080/"
        },
        "id": "tnfajrc13tz2",
        "outputId": "9e591fc8-f8e8-4637-c11c-10a8cc8f8651"
      },
      "source": [
        "xgb = XGBClassifier(learning_rate=0.1)\r\n",
        "\r\n",
        "param_grid = {\r\n",
        " 'n_estimators':range(0,1000,50),\r\n",
        "}\r\n",
        "\r\n",
        "# identificar melhor parâmetro\r\n",
        "kfold = StratifiedKFold(n_splits=10, shuffle=True)\r\n",
        "grid_search = GridSearchCV(xgb, param_grid, scoring='f1', n_jobs=-1, cv=kfold)\r\n",
        "grid_result = grid_search.fit(X_train_rus, y_train_rus)\r\n",
        "\r\n",
        "# ver resultados\r\n",
        "print(\"Melhor: {} para {}\".format(grid_result.best_score_, grid_result.best_params_))"
      ],
      "execution_count": null,
      "outputs": [
        {
          "output_type": "stream",
          "text": [
            "Melhor: 0.7710962994196529 para {'n_estimators': 50}\n"
          ],
          "name": "stdout"
        }
      ]
    },
    {
      "cell_type": "code",
      "metadata": {
        "colab": {
          "base_uri": "https://localhost:8080/"
        },
        "id": "W40JNyEu3x99",
        "outputId": "47a04b6c-d092-4e94-e793-cba377d68f9b"
      },
      "source": [
        "xgb = XGBClassifier(learning_rate=0.1, n_estimators=50)\r\n",
        "\r\n",
        "param_grid = {\r\n",
        " 'max_depth':range(1,8,1),\r\n",
        " 'min_child_weight':range(1,5,1)\r\n",
        "}\r\n",
        "\r\n",
        "# identificar melhor parâmetro\r\n",
        "kfold = StratifiedKFold(n_splits=10, shuffle=True)\r\n",
        "grid_search = GridSearchCV(xgb, param_grid, scoring=\"f1\", n_jobs=-1, cv=kfold)\r\n",
        "grid_result = grid_search.fit(X_train_rus, y_train_rus)\r\n",
        "\r\n",
        "# ver resultados\r\n",
        "print(\"Melhor: {} para {}\".format(grid_result.best_score_, grid_result.best_params_))"
      ],
      "execution_count": null,
      "outputs": [
        {
          "output_type": "stream",
          "text": [
            "Melhor: 0.7731138146082782 para {'max_depth': 3, 'min_child_weight': 3}\n"
          ],
          "name": "stdout"
        }
      ]
    },
    {
      "cell_type": "code",
      "metadata": {
        "colab": {
          "base_uri": "https://localhost:8080/"
        },
        "id": "qGSrhcf655c3",
        "outputId": "0d348c27-c4b8-445d-d599-61a1e10d6272"
      },
      "source": [
        "xgb = XGBClassifier(learning_rate=0.1, n_estimators=50, max_depth=3, min_child_weight=3)\r\n",
        "\r\n",
        "param_grid = {\r\n",
        " 'gamma':[i/10.0 for i in range(0,5)]\r\n",
        "}\r\n",
        "\r\n",
        "# identificar melhor parâmetro\r\n",
        "kfold = StratifiedKFold(n_splits=10, shuffle=True)\r\n",
        "grid_search = GridSearchCV(xgb, param_grid, scoring=\"f1\", n_jobs=-1, cv=kfold)\r\n",
        "grid_result = grid_search.fit(X_train_rus, y_train_rus)\r\n",
        "\r\n",
        "# ver resultados\r\n",
        "print(\"Melhor: {} para {}\".format(grid_result.best_score_, grid_result.best_params_))"
      ],
      "execution_count": null,
      "outputs": [
        {
          "output_type": "stream",
          "text": [
            "Melhor: 0.775232032737173 para {'gamma': 0.0}\n"
          ],
          "name": "stdout"
        }
      ]
    },
    {
      "cell_type": "code",
      "metadata": {
        "id": "KssnT-wYoxXO",
        "colab": {
          "base_uri": "https://localhost:8080/"
        },
        "outputId": "81c6e724-7d02-4e41-f284-5f14c3bf4de3"
      },
      "source": [
        "xgb = XGBClassifier(n_estimators=50, max_depth=1, min_child_weight=1, gamma=0.0)\n",
        "\n",
        "param_grid = {\n",
        " 'learning_rate':[0.001, 0.01, 0.1, 1]\n",
        "}\n",
        "\n",
        "# identificar melhor parâmetro\n",
        "kfold = StratifiedKFold(n_splits=10, shuffle=True)\n",
        "grid_search = GridSearchCV(xgb, param_grid, scoring=\"recall\", n_jobs=-1, cv=kfold)\n",
        "grid_result = grid_search.fit(X_train_rus, y_train_rus)\n",
        "\n",
        "# ver resultados\n",
        "print(\"Melhor: {} para {}\".format(grid_result.best_score_, grid_result.best_params_))"
      ],
      "execution_count": null,
      "outputs": [
        {
          "output_type": "stream",
          "text": [
            "Melhor: 0.8812949640287769 para {'learning_rate': 0.001}\n"
          ],
          "name": "stdout"
        }
      ]
    },
    {
      "cell_type": "markdown",
      "metadata": {
        "id": "97oqh2o1Bq0m"
      },
      "source": [
        "> Dessa maneira atingimos o modelo final com os seguintes hiperparamentro e valores:\r\n",
        "\r\n",
        "> **xgb = XGBClassifier(learning_rate=0.001 , n_estimators=50, max_depth=3, min_child_weight=3, gamma=0.0)**"
      ]
    },
    {
      "cell_type": "code",
      "metadata": {
        "colab": {
          "base_uri": "https://localhost:8080/",
          "height": 480
        },
        "id": "zeupkwoI6fpf",
        "outputId": "86995cbe-378b-41d4-c769-1a9890bbc561"
      },
      "source": [
        "# modelo final\r\n",
        "xgb = XGBClassifier(learning_rate=0.001 , n_estimators=50, max_depth=3, min_child_weight=3, gamma=0.0)\r\n",
        "xgb.fit(X_train_rus, y_train_rus)\r\n",
        "\r\n",
        "# fazer a previsão\r\n",
        "X_test = scaler.transform(X_test)\r\n",
        "y_pred = xgb.predict(X_test)\r\n",
        "\r\n",
        "# Classification Report\r\n",
        "print(classification_report(y_test, y_pred))\r\n",
        "\r\n",
        "# imprimir a área sob a curva\r\n",
        "print(\"AUC: {:.4f}\\n\".format(roc_auc_score(y_test, y_pred)))\r\n",
        "\r\n",
        "# plotar matriz de confusão\r\n",
        "plot_confusion_matrix(y_test, y_pred, normalize=True)\r\n",
        "plt.show()"
      ],
      "execution_count": null,
      "outputs": [
        {
          "output_type": "stream",
          "text": [
            "              precision    recall  f1-score   support\n",
            "\n",
            "           0       0.91      0.73      0.81      1282\n",
            "           1       0.53      0.81      0.64       479\n",
            "\n",
            "    accuracy                           0.75      1761\n",
            "   macro avg       0.72      0.77      0.72      1761\n",
            "weighted avg       0.81      0.75      0.76      1761\n",
            "\n",
            "AUC: 0.7697\n",
            "\n"
          ],
          "name": "stdout"
        },
        {
          "output_type": "display_data",
          "data": {
            "image/png": "[encoded data removed]",
            "text/plain": [
              "<Figure size 432x288 with 2 Axes>"
            ]
          },
          "metadata": {
            "tags": [],
            "needs_background": "light"
          }
        }
      ]
    },
    {
      "cell_type": "markdown",
      "metadata": {
        "id": "ThH0bud3XImv"
      },
      "source": [
        "## Conclusão\r\n",
        "\r\n",
        "> O modelo de teve um desempenho razoável, ainda existem algumas melhorias que podem ser feitas com relações as dados, podendo tornar algumas colunas binárias ao invés de ter 3 ou mais entradas possíveis.\r\n",
        "\r\n",
        "> O modelo deve um acerto de 81% nos clientes que iriam deixar de usar o serviço e 73% de acerto nos clientes que continuariam a usar o produto\r\n",
        "\r\n",
        "> Convido o leitor a ultilizar os dados aqui usados e tentar melhorar o modelo e enriquecer a análise exploratória."
      ]
    },
    {
      "cell_type": "code",
      "metadata": {
        "id": "35Rilx2cDmY7"
      },
      "source": [
        ""
      ],
      "execution_count": null,
      "outputs": []
    }
  ]
}