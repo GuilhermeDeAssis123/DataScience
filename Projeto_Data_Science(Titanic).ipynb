{
  "nbformat": 4,
  "nbformat_minor": 0,
  "metadata": {
    "colab": {
      "name": "Projeto_Data_Science(Titanic).ipynb",
      "provenance": [],
      "collapsed_sections": [],
      "authorship_tag": "ABX9TyPiOPPN5Jm1Ef1g7ihDuFI8",
      "include_colab_link": true
    },
    "kernelspec": {
      "name": "python3",
      "display_name": "Python 3"
    }
  },
  "cells": [
    {
      "cell_type": "markdown",
      "metadata": {
        "id": "view-in-github",
        "colab_type": "text"
      },
      "source": [
        "<a href=\"https://colab.research.google.com/github/GuilhermeDeAssis123/DataScience/blob/master/Projeto_Data_Science(Titanic).ipynb\" target=\"_parent\"><img src=\"https://colab.research.google.com/assets/colab-badge.svg\" alt=\"Open In Colab\"/></a>"
      ]
    },
    {
      "cell_type": "markdown",
      "metadata": {
        "id": "0g3VbK3SZqyN",
        "colab_type": "text"
      },
      "source": [
        "# **Análise sobre o naufrágio do Titanic** \n",
        "> Com certeza a maioria das pessoas já ouviram falar sobre o naufrágio mais conhecido da história, o naufrágio do Titanic, que em sua epóca era o maior e mais moderno navio existente. Apesar do seu poderio tecnológio o navio afundou após colidir com um iceberg, matando 1502 dos 2224 passageiros do navio\n",
        "\n",
        "\n",
        "---\n",
        "\n",
        "\n",
        "<center><img src = \"https://aventurasnahistoria.uol.com.br/media/_versions/legacy/2018/04/11/titanic2-0349859403-2203948..capa_widelg.jpg\"></center>\n",
        "\n",
        "\n",
        "---\n",
        "\n",
        ">Sem contar o fato de que no momento do naufrágio constatou-se que não haviam botes salva vidas o suficiente para todos os passageiros da embarcação. Podemos dizer que aqueles que sobreviveram tiveram muita sorte, mas pergunta certa é, **sera que alguns passageiros tiveram mais sorte que outros?**\n",
        "\n",
        "##**1. Objetivo**\n",
        "\n",
        ">Tendo isso em vista o objetivo dessa análise é averiguar qual era a chance de sobrevivencia dos passageiros do navio. Espera-se fazer isso através da verificação de **como as variáveis podem influênciar no resultado final**, ou seja, quais são os fatores determinantes para sobreviver nessa situação.\n",
        ">Também é esperado a construção de um modelo que **dê a previsão de sobrevivência para um passageiro qualquer forcenido via** *input*.\n",
        "\n",
        "---\n",
        "##**2. Obtenção dos Dados**\n",
        "\n",
        "> Os dados foram obtidos a partir da plataforma *Kaggle*, que é uma incentivadora do apremdizado de *machine learning*, e esse é um desafio proposto pela plataforma.\n",
        ">Foram disponibilizados dois DataSet, sendo eles:\n",
        "* DataSet de treino: Esse deve ser o conjunto de dados utilizado para o treinamento e construção do modelo de *machine learning*, responsável por dizer se o passageiro vai sobreviver ou não. Utilizado na análise dos dados\n",
        "* DataSet de teste: Esse sera o conjunto de dados não é conhecido pelo modelo e será utilizado no final como parametro de acurácia."
      ]
    },
    {
      "cell_type": "code",
      "metadata": {
        "id": "mU_llEBsZ2Lc",
        "colab_type": "code",
        "colab": {}
      },
      "source": [
        "# Importando bibliotecas.\n",
        "import pandas as pd\n",
        "import seaborn as sea\n",
        "import matplotlib.pyplot as plt\n",
        "import numpy as np\n",
        "\n",
        "# Permite mostrar todas as colunas.\n",
        "pd.options.display.max_columns  = None\n",
        "\n",
        "# Renderizar os gráficos no próprio notebook\n",
        "%matplotlib inline\n",
        "\n",
        "# Importando os DataSets necessários\n",
        "df_treino = pd.read_csv('https://raw.githubusercontent.com/GuilhermeDeAssis123/DataScience/master/train.csv')\n",
        "df_teste = pd.read_csv('https://raw.githubusercontent.com/GuilhermeDeAssis123/DataScience/master/test.csv')"
      ],
      "execution_count": 0,
      "outputs": []
    },
    {
      "cell_type": "markdown",
      "metadata": {
        "id": "nh9PEd6uaFUa",
        "colab_type": "text"
      },
      "source": [
        "### Q1. Qual o tamnho do nosso Dateset, quantas colunas(variàveis) e linhas(entradas) ele possui?\n",
        "> Podemos observar que o DataSet possui 891 entradas(linhas) e 12 variáveis(colunas). \n"
      ]
    },
    {
      "cell_type": "code",
      "metadata": {
        "id": "FHSLzGqiaGFW",
        "colab_type": "code",
        "colab": {
          "base_uri": "https://localhost:8080/",
          "height": 50
        },
        "outputId": "254e4340-b2e6-44c5-f078-1a9d6f5177e6"
      },
      "source": [
        "# mostrando o tamanho do DataSet.\n",
        "print(\"\"\"Entrdas: {}\n",
        "Variáveis: {}\"\"\".format(df_treino.shape[0],df_treino.shape[1]))"
      ],
      "execution_count": 4,
      "outputs": [
        {
          "output_type": "stream",
          "text": [
            "Entrdas: 891\n",
            "Variáveis: 12\n"
          ],
          "name": "stdout"
        }
      ]
    },
    {
      "cell_type": "markdown",
      "metadata": {
        "id": "79pAiSIOaG5P",
        "colab_type": "text"
      },
      "source": [
        "---\n",
        "##3. Exploração dos Dados\n",
        "> Essa é fase no qual análisamos o nosso DataSet com o propósito de melhorar sua qualidade retirando colunas ou linhas que estejam em branco, retirando outliers entre outros problemas que atrapalham ou distorcem a interpretção dos dados. Como se trata de um problema de classificação, ou seja, aprendizado supervisionado, a variável *survived* é definida como nossa variável alvo.\n",
        "###Dicionário de Dados\n",
        ">Nesta parte apresentação das variáveis e uma breve descrição.\n",
        "* PassangerId - Número identificador do passsageiro\n",
        "* Survived - Estado do passageiro\n",
        "           1 = Vivo\n",
        "           0 = Morto\n",
        "* Pclass - Classe do navio a qual pertence\n",
        "* Name - Nome do passageiro\n",
        "* Sex -  Sexo do passageiro\n",
        "* Age - Idade do passageiro\n",
        "* SibSp - Quantidade de cônjuges ou irmãos a bordo\n",
        "* Parch - Quantidade de pais e filhos a bordo\n",
        "* Ticket - Número da passagem\n",
        "* Fare - Preço da passagem\n",
        "* Cabin - Número da Cabine\n",
        "* Embarked -  Porto no qual o passageiro embarcou\n",
        "        C = Cherbourg \n",
        "        Q = Queenstown\n",
        "        S = Southampton\n",
        "\n",
        "### Q1. Quais os Tipos de cada variável?\n",
        "> Observe logo abaixo que temos **3 tipos** de variável sendo elas, inteiras, flutuantes e Strings:\n",
        "* **5 inteiras**\n",
        "* **2 flutuantes**\n",
        "* **5 Strings**\n",
        "\n"
      ]
    },
    {
      "cell_type": "code",
      "metadata": {
        "id": "HMwb5GASaQaU",
        "colab_type": "code",
        "colab": {
          "base_uri": "https://localhost:8080/",
          "height": 414
        },
        "outputId": "311849ab-3461-4ccb-9d81-404f5b4bbb16"
      },
      "source": [
        "# Mostra o tipo de cada variável\n",
        "display(df_treino.dtypes)\n",
        "\n",
        "# Mostra os 5 primeiros valores do DataSet\n",
        "df_treino.head()"
      ],
      "execution_count": 6,
      "outputs": [
        {
          "output_type": "display_data",
          "data": {
            "text/plain": [
              "PassengerId      int64\n",
              "Survived         int64\n",
              "Pclass           int64\n",
              "Name            object\n",
              "Sex             object\n",
              "Age            float64\n",
              "SibSp            int64\n",
              "Parch            int64\n",
              "Ticket          object\n",
              "Fare           float64\n",
              "Cabin           object\n",
              "Embarked        object\n",
              "dtype: object"
            ]
          },
          "metadata": {
            "tags": []
          }
        },
        {
          "output_type": "execute_result",
          "data": {
            "text/html": [
              "<div>\n",
              "<style scoped>\n",
              "    .dataframe tbody tr th:only-of-type {\n",
              "        vertical-align: middle;\n",
              "    }\n",
              "\n",
              "    .dataframe tbody tr th {\n",
              "        vertical-align: top;\n",
              "    }\n",
              "\n",
              "    .dataframe thead th {\n",
              "        text-align: right;\n",
              "    }\n",
              "</style>\n",
              "<table border=\"1\" class=\"dataframe\">\n",
              "  <thead>\n",
              "    <tr style=\"text-align: right;\">\n",
              "      <th></th>\n",
              "      <th>PassengerId</th>\n",
              "      <th>Survived</th>\n",
              "      <th>Pclass</th>\n",
              "      <th>Name</th>\n",
              "      <th>Sex</th>\n",
              "      <th>Age</th>\n",
              "      <th>SibSp</th>\n",
              "      <th>Parch</th>\n",
              "      <th>Ticket</th>\n",
              "      <th>Fare</th>\n",
              "      <th>Cabin</th>\n",
              "      <th>Embarked</th>\n",
              "    </tr>\n",
              "  </thead>\n",
              "  <tbody>\n",
              "    <tr>\n",
              "      <th>0</th>\n",
              "      <td>1</td>\n",
              "      <td>0</td>\n",
              "      <td>3</td>\n",
              "      <td>Braund, Mr. Owen Harris</td>\n",
              "      <td>male</td>\n",
              "      <td>22.0</td>\n",
              "      <td>1</td>\n",
              "      <td>0</td>\n",
              "      <td>A/5 21171</td>\n",
              "      <td>7.2500</td>\n",
              "      <td>NaN</td>\n",
              "      <td>S</td>\n",
              "    </tr>\n",
              "    <tr>\n",
              "      <th>1</th>\n",
              "      <td>2</td>\n",
              "      <td>1</td>\n",
              "      <td>1</td>\n",
              "      <td>Cumings, Mrs. John Bradley (Florence Briggs Th...</td>\n",
              "      <td>female</td>\n",
              "      <td>38.0</td>\n",
              "      <td>1</td>\n",
              "      <td>0</td>\n",
              "      <td>PC 17599</td>\n",
              "      <td>71.2833</td>\n",
              "      <td>C85</td>\n",
              "      <td>C</td>\n",
              "    </tr>\n",
              "    <tr>\n",
              "      <th>2</th>\n",
              "      <td>3</td>\n",
              "      <td>1</td>\n",
              "      <td>3</td>\n",
              "      <td>Heikkinen, Miss. Laina</td>\n",
              "      <td>female</td>\n",
              "      <td>26.0</td>\n",
              "      <td>0</td>\n",
              "      <td>0</td>\n",
              "      <td>STON/O2. 3101282</td>\n",
              "      <td>7.9250</td>\n",
              "      <td>NaN</td>\n",
              "      <td>S</td>\n",
              "    </tr>\n",
              "    <tr>\n",
              "      <th>3</th>\n",
              "      <td>4</td>\n",
              "      <td>1</td>\n",
              "      <td>1</td>\n",
              "      <td>Futrelle, Mrs. Jacques Heath (Lily May Peel)</td>\n",
              "      <td>female</td>\n",
              "      <td>35.0</td>\n",
              "      <td>1</td>\n",
              "      <td>0</td>\n",
              "      <td>113803</td>\n",
              "      <td>53.1000</td>\n",
              "      <td>C123</td>\n",
              "      <td>S</td>\n",
              "    </tr>\n",
              "    <tr>\n",
              "      <th>4</th>\n",
              "      <td>5</td>\n",
              "      <td>0</td>\n",
              "      <td>3</td>\n",
              "      <td>Allen, Mr. William Henry</td>\n",
              "      <td>male</td>\n",
              "      <td>35.0</td>\n",
              "      <td>0</td>\n",
              "      <td>0</td>\n",
              "      <td>373450</td>\n",
              "      <td>8.0500</td>\n",
              "      <td>NaN</td>\n",
              "      <td>S</td>\n",
              "    </tr>\n",
              "  </tbody>\n",
              "</table>\n",
              "</div>"
            ],
            "text/plain": [
              "   PassengerId  Survived  Pclass  \\\n",
              "0            1         0       3   \n",
              "1            2         1       1   \n",
              "2            3         1       3   \n",
              "3            4         1       1   \n",
              "4            5         0       3   \n",
              "\n",
              "                                                Name     Sex   Age  SibSp  \\\n",
              "0                            Braund, Mr. Owen Harris    male  22.0      1   \n",
              "1  Cumings, Mrs. John Bradley (Florence Briggs Th...  female  38.0      1   \n",
              "2                             Heikkinen, Miss. Laina  female  26.0      0   \n",
              "3       Futrelle, Mrs. Jacques Heath (Lily May Peel)  female  35.0      1   \n",
              "4                           Allen, Mr. William Henry    male  35.0      0   \n",
              "\n",
              "   Parch            Ticket     Fare Cabin Embarked  \n",
              "0      0         A/5 21171   7.2500   NaN        S  \n",
              "1      0          PC 17599  71.2833   C85        C  \n",
              "2      0  STON/O2. 3101282   7.9250   NaN        S  \n",
              "3      0            113803  53.1000  C123        S  \n",
              "4      0            373450   8.0500   NaN        S  "
            ]
          },
          "metadata": {
            "tags": []
          },
          "execution_count": 6
        }
      ]
    },
    {
      "cell_type": "markdown",
      "metadata": {
        "id": "6VJmmPiMaeWG",
        "colab_type": "text"
      },
      "source": [
        "### Q2. Qual a porcentagem de valores nulos por variável?"
      ]
    },
    {
      "cell_type": "markdown",
      "metadata": {
        "id": "w5nKoL-haitb",
        "colab_type": "text"
      },
      "source": [
        " * Podemos observar a cima que a **variável Cabin** possuir cerca de **77,1% dos dados como nulos**\n",
        " * Já com a **variável Age** temos uma porcentagem de **19,8% de dados nulos**\n",
        " * No caso da **variável Embarked** temos apenas **0.22% dos dados como nulos**\n",
        "---\n",
        "> Agora vamos análisar os histogramas de cada variável em busca de verificar alguns outliers."
      ]
    },
    {
      "cell_type": "code",
      "metadata": {
        "id": "269g7B-Eales",
        "colab_type": "code",
        "colab": {
          "base_uri": "https://localhost:8080/",
          "height": 607
        },
        "outputId": "e3e5fbab-2553-4995-a1b6-f02ed0630a7a"
      },
      "source": [
        "# plotando histogramas de todas as variáveis númericas\n",
        "\n",
        "df_treino.hist(bins= 10, figsize=(15,10));"
      ],
      "execution_count": 8,
      "outputs": [
        {
          "output_type": "display_data",
          "data": {
            "image/png": "[encoded data removed]",
            "text/plain": [
              "<Figure size 1080x720 with 9 Axes>"
            ]
          },
          "metadata": {
            "tags": []
          }
        }
      ]
    },
    {
      "cell_type": "markdown",
      "metadata": {
        "id": "NlgcZhatatPa",
        "colab_type": "text"
      },
      "source": [
        "> Podemos ver que em um dos gráficos existe uma presença de outliers, observe o histograma da **variável fare**, sua **distribuição** esta estranha e com uma **aplitude muito grande** no eixo x. Vamos olhar as estatísticas e ver se a hipótese se confirma.\n",
        "\n",
        "###Q3. Existem outliers?"
      ]
    },
    {
      "cell_type": "code",
      "metadata": {
        "id": "Oa36ilKnbFoj",
        "colab_type": "code",
        "colab": {
          "base_uri": "https://localhost:8080/",
          "height": 284
        },
        "outputId": "88a9ed5c-32f7-42d1-e264-156273d74a30"
      },
      "source": [
        "# Usando o método describe() para mostrar na tela as estatísticas.\n",
        "df_treino.describe()"
      ],
      "execution_count": 9,
      "outputs": [
        {
          "output_type": "execute_result",
          "data": {
            "text/html": [
              "<div>\n",
              "<style scoped>\n",
              "    .dataframe tbody tr th:only-of-type {\n",
              "        vertical-align: middle;\n",
              "    }\n",
              "\n",
              "    .dataframe tbody tr th {\n",
              "        vertical-align: top;\n",
              "    }\n",
              "\n",
              "    .dataframe thead th {\n",
              "        text-align: right;\n",
              "    }\n",
              "</style>\n",
              "<table border=\"1\" class=\"dataframe\">\n",
              "  <thead>\n",
              "    <tr style=\"text-align: right;\">\n",
              "      <th></th>\n",
              "      <th>PassengerId</th>\n",
              "      <th>Survived</th>\n",
              "      <th>Pclass</th>\n",
              "      <th>Age</th>\n",
              "      <th>SibSp</th>\n",
              "      <th>Parch</th>\n",
              "      <th>Fare</th>\n",
              "    </tr>\n",
              "  </thead>\n",
              "  <tbody>\n",
              "    <tr>\n",
              "      <th>count</th>\n",
              "      <td>891.000000</td>\n",
              "      <td>891.000000</td>\n",
              "      <td>891.000000</td>\n",
              "      <td>714.000000</td>\n",
              "      <td>891.000000</td>\n",
              "      <td>891.000000</td>\n",
              "      <td>891.000000</td>\n",
              "    </tr>\n",
              "    <tr>\n",
              "      <th>mean</th>\n",
              "      <td>446.000000</td>\n",
              "      <td>0.383838</td>\n",
              "      <td>2.308642</td>\n",
              "      <td>29.699118</td>\n",
              "      <td>0.523008</td>\n",
              "      <td>0.381594</td>\n",
              "      <td>32.204208</td>\n",
              "    </tr>\n",
              "    <tr>\n",
              "      <th>std</th>\n",
              "      <td>257.353842</td>\n",
              "      <td>0.486592</td>\n",
              "      <td>0.836071</td>\n",
              "      <td>14.526497</td>\n",
              "      <td>1.102743</td>\n",
              "      <td>0.806057</td>\n",
              "      <td>49.693429</td>\n",
              "    </tr>\n",
              "    <tr>\n",
              "      <th>min</th>\n",
              "      <td>1.000000</td>\n",
              "      <td>0.000000</td>\n",
              "      <td>1.000000</td>\n",
              "      <td>0.420000</td>\n",
              "      <td>0.000000</td>\n",
              "      <td>0.000000</td>\n",
              "      <td>0.000000</td>\n",
              "    </tr>\n",
              "    <tr>\n",
              "      <th>25%</th>\n",
              "      <td>223.500000</td>\n",
              "      <td>0.000000</td>\n",
              "      <td>2.000000</td>\n",
              "      <td>20.125000</td>\n",
              "      <td>0.000000</td>\n",
              "      <td>0.000000</td>\n",
              "      <td>7.910400</td>\n",
              "    </tr>\n",
              "    <tr>\n",
              "      <th>50%</th>\n",
              "      <td>446.000000</td>\n",
              "      <td>0.000000</td>\n",
              "      <td>3.000000</td>\n",
              "      <td>28.000000</td>\n",
              "      <td>0.000000</td>\n",
              "      <td>0.000000</td>\n",
              "      <td>14.454200</td>\n",
              "    </tr>\n",
              "    <tr>\n",
              "      <th>75%</th>\n",
              "      <td>668.500000</td>\n",
              "      <td>1.000000</td>\n",
              "      <td>3.000000</td>\n",
              "      <td>38.000000</td>\n",
              "      <td>1.000000</td>\n",
              "      <td>0.000000</td>\n",
              "      <td>31.000000</td>\n",
              "    </tr>\n",
              "    <tr>\n",
              "      <th>max</th>\n",
              "      <td>891.000000</td>\n",
              "      <td>1.000000</td>\n",
              "      <td>3.000000</td>\n",
              "      <td>80.000000</td>\n",
              "      <td>8.000000</td>\n",
              "      <td>6.000000</td>\n",
              "      <td>512.329200</td>\n",
              "    </tr>\n",
              "  </tbody>\n",
              "</table>\n",
              "</div>"
            ],
            "text/plain": [
              "       PassengerId    Survived      Pclass         Age       SibSp  \\\n",
              "count   891.000000  891.000000  891.000000  714.000000  891.000000   \n",
              "mean    446.000000    0.383838    2.308642   29.699118    0.523008   \n",
              "std     257.353842    0.486592    0.836071   14.526497    1.102743   \n",
              "min       1.000000    0.000000    1.000000    0.420000    0.000000   \n",
              "25%     223.500000    0.000000    2.000000   20.125000    0.000000   \n",
              "50%     446.000000    0.000000    3.000000   28.000000    0.000000   \n",
              "75%     668.500000    1.000000    3.000000   38.000000    1.000000   \n",
              "max     891.000000    1.000000    3.000000   80.000000    8.000000   \n",
              "\n",
              "            Parch        Fare  \n",
              "count  891.000000  891.000000  \n",
              "mean     0.381594   32.204208  \n",
              "std      0.806057   49.693429  \n",
              "min      0.000000    0.000000  \n",
              "25%      0.000000    7.910400  \n",
              "50%      0.000000   14.454200  \n",
              "75%      0.000000   31.000000  \n",
              "max      6.000000  512.329200  "
            ]
          },
          "metadata": {
            "tags": []
          },
          "execution_count": 9
        }
      ]
    },
    {
      "cell_type": "markdown",
      "metadata": {
        "id": "jWIN4B2_bMGb",
        "colab_type": "text"
      },
      "source": [
        "> Como podemos observar na ultima coluna referente a **variável fare** podemos observar que 75% dos valores estão abaixo de 31, porem o **valor maximo passa de 500**, observa-se também que o desvio padrão representado na terceira linha esta maior do que a média. Vamos então para confirmar plotar isso em Boxplot para confirmar a hipostese."
      ]
    },
    {
      "cell_type": "code",
      "metadata": {
        "id": "cckTlp_ZbQC9",
        "colab_type": "code",
        "colab": {
          "base_uri": "https://localhost:8080/",
          "height": 228
        },
        "outputId": "b9393f7e-e467-41eb-9337-43520c9a63aa"
      },
      "source": [
        "# Plotando um gráfico de caixa referente a variável fare.\n",
        "df_treino.Fare.plot(kind = 'box', vert=False, figsize =(15,3))\n"
      ],
      "execution_count": 10,
      "outputs": [
        {
          "output_type": "execute_result",
          "data": {
            "text/plain": [
              "<matplotlib.axes._subplots.AxesSubplot at 0x7f5e3be879e8>"
            ]
          },
          "metadata": {
            "tags": []
          },
          "execution_count": 10
        },
        {
          "output_type": "display_data",
          "data": {
            "image/png": "[encoded data removed]",
            "text/plain": [
              "<Figure size 1080x216 with 1 Axes>"
            ]
          },
          "metadata": {
            "tags": []
          }
        }
      ]
    },
    {
      "cell_type": "code",
      "metadata": {
        "id": "xZzs6kvmbTHy",
        "colab_type": "code",
        "colab": {
          "base_uri": "https://localhost:8080/",
          "height": 67
        },
        "outputId": "752bc9b7-3e74-4d2f-ec28-0394bdda7695"
      },
      "source": [
        "print('Fare: Valores acima de 100:')\n",
        "print('{} valores'.format(len(df_treino[df_treino.Fare > 100])))\n",
        "print('Isso representa {:.2f}% de todos os valores da variável Fare'.format((len(df_treino[df_treino.Fare > 100])/df_treino.shape[0])*100))"
      ],
      "execution_count": 11,
      "outputs": [
        {
          "output_type": "stream",
          "text": [
            "Fare: Valores acima de 100:\n",
            "53 valores\n",
            "Isso representa 5.95% de todos os valores da variável Fare\n"
          ],
          "name": "stdout"
        }
      ]
    },
    {
      "cell_type": "markdown",
      "metadata": {
        "id": "HpZS887cbfbS",
        "colab_type": "text"
      },
      "source": [
        ">Existem 53 valores acima de 100 que representam apenas 5,95% dos dados, esses valores estão causando uma distorção do que realmente de fato acontece. Mas vamos corta-los, pois nesse caso não irá interferir no resultado final.\n",
        "\n",
        "### Q4. Quais as chances de cada grupo sobreviver?"
      ]
    },
    {
      "cell_type": "code",
      "metadata": {
        "id": "x19P0ohnboB6",
        "colab_type": "code",
        "colab": {
          "base_uri": "https://localhost:8080/",
          "height": 279
        },
        "outputId": "07111a14-f971-43a0-fb51-81abeee3f9f9"
      },
      "source": [
        "# Analisar a probabilidade de sobrevivência pelo sexo.\n",
        "df_treino[['Sex','Survived']].groupby(['Sex']).mean()\n",
        "\n",
        "# Plotar os gráficos para Survived vs. Sex, Pclass e Embarked\n",
        "fig, (axis1, axis2, axis3) = plt.subplots(1,3, figsize=(12,4))\n",
        "\n",
        "sea.barplot(x='Sex', y='Survived', data = df_treino, ax =axis1)\n",
        "sea.barplot(x='Pclass', y='Survived', data = df_treino, ax =axis2)\n",
        "sea.barplot(x='Embarked', y='Survived', data = df_treino, ax =axis3);"
      ],
      "execution_count": 12,
      "outputs": [
        {
          "output_type": "display_data",
          "data": {
            "image/png": "[encoded data removed]",
            "text/plain": [
              "<Figure size 864x288 with 3 Axes>"
            ]
          },
          "metadata": {
            "tags": []
          }
        }
      ]
    },
    {
      "cell_type": "markdown",
      "metadata": {
        "id": "SJxV5VMQb7R5",
        "colab_type": "text"
      },
      "source": [
        "> Podemos observar algumas coisas sobre os graficos e tabelas. O primeiro ponto é que as mulheres (71%) tinha muito mais chance de sobreviver do que os homens(18%). O segundo ponto mostra que a classe do navio a qual você estava inserido também influênciou na sobrevivência, nos mostrando que a 1ºclasse tinha 60% de chance de escapar, seguida pela 2ºclasse com aproximadamento 50% e por fim a 3ºclasse com cerca de 25%. Já o 3º gráfico nos mostra a chance de sobreviver de acordo com o ponto de embarque do passageiro mostrando que quem embarcou na cidade de Cherbourg tinha mais chance de sobreviver."
      ]
    },
    {
      "cell_type": "code",
      "metadata": {
        "id": "gMv2HJSQcOjS",
        "colab_type": "code",
        "colab": {
          "base_uri": "https://localhost:8080/",
          "height": 225
        },
        "outputId": "6a597cfd-1cb2-40dc-81a2-b7d76c2ba6b1"
      },
      "source": [
        "# ver influência da idade na probabilidade de sobrevivência.\n",
        "\n",
        "age_survived = sea.FacetGrid(df_treino, col = 'Survived')\n",
        "age_survived.map(sea.distplot,'Age');"
      ],
      "execution_count": 13,
      "outputs": [
        {
          "output_type": "display_data",
          "data": {
            "image/png": "[encoded data removed]",
            "text/plain": [
              "<Figure size 432x216 with 2 Axes>"
            ]
          },
          "metadata": {
            "tags": []
          }
        }
      ]
    },
    {
      "cell_type": "markdown",
      "metadata": {
        "id": "IPruUwracS2i",
        "colab_type": "text"
      },
      "source": [
        ">Podemos tirar alguns insights desse gráfico. Observe que se for uma criança sua probabilidade de sobrevivência é maior e que se você ie um idoso, sua chance de sobrevivência é quase que minima. Agora na faxia central dos 20 aos 60 anos temos outros fatores interferindo.Pode-se notar também que o número de não sobrevivêntes é maior em quase todas as colunas devido ao fato de que existem mais homens do que mulheres no navio e esses tem menor chance de escape. Vamos agora plotar o heatmap para ter mais informações."
      ]
    },
    {
      "cell_type": "code",
      "metadata": {
        "id": "MS1ovpFUcbgr",
        "colab_type": "code",
        "colab": {
          "base_uri": "https://localhost:8080/",
          "height": 320
        },
        "outputId": "6b544f30-9d4f-486c-8e7c-75c2cad0dd31"
      },
      "source": [
        "# Plotar o heatmap parar as variáveis numericas.\n",
        "\n",
        "sea.heatmap(df_treino.corr(), cmap='RdBu', fmt='.2f',linewidths=0.1, vmax=1.0, square= True, linecolor='white', annot=True);\n"
      ],
      "execution_count": 14,
      "outputs": [
        {
          "output_type": "display_data",
          "data": {
            "image/png": "[encoded data removed]",
            "text/plain": [
              "<Figure size 432x288 with 2 Axes>"
            ]
          },
          "metadata": {
            "tags": []
          }
        }
      ]
    },
    {
      "cell_type": "markdown",
      "metadata": {
        "id": "Qo5P-b3wcfZD",
        "colab_type": "text"
      },
      "source": [
        ">Através do heatmap podemos analisar uma correlação importante. Ela é entre as variáveis Survived, Pclass e Fare, que nos indica que quanto mais cara sua passagem maior sua chance de sobrevivência, ja que o valor mais alto indica uma classe mais alta, assim influênciando no escape como vimos no gráfico de barras survived Pclass."
      ]
    },
    {
      "cell_type": "code",
      "metadata": {
        "id": "BIiPdEQVck56",
        "colab_type": "code",
        "colab": {
          "base_uri": "https://localhost:8080/",
          "height": 166
        },
        "outputId": "d7813652-a12a-4625-cc53-a60d486d86e5"
      },
      "source": [
        "# Método describe() para strings.\n",
        "df_treino.describe(include=['O'])"
      ],
      "execution_count": 15,
      "outputs": [
        {
          "output_type": "execute_result",
          "data": {
            "text/html": [
              "<div>\n",
              "<style scoped>\n",
              "    .dataframe tbody tr th:only-of-type {\n",
              "        vertical-align: middle;\n",
              "    }\n",
              "\n",
              "    .dataframe tbody tr th {\n",
              "        vertical-align: top;\n",
              "    }\n",
              "\n",
              "    .dataframe thead th {\n",
              "        text-align: right;\n",
              "    }\n",
              "</style>\n",
              "<table border=\"1\" class=\"dataframe\">\n",
              "  <thead>\n",
              "    <tr style=\"text-align: right;\">\n",
              "      <th></th>\n",
              "      <th>Name</th>\n",
              "      <th>Sex</th>\n",
              "      <th>Ticket</th>\n",
              "      <th>Cabin</th>\n",
              "      <th>Embarked</th>\n",
              "    </tr>\n",
              "  </thead>\n",
              "  <tbody>\n",
              "    <tr>\n",
              "      <th>count</th>\n",
              "      <td>891</td>\n",
              "      <td>891</td>\n",
              "      <td>891</td>\n",
              "      <td>204</td>\n",
              "      <td>889</td>\n",
              "    </tr>\n",
              "    <tr>\n",
              "      <th>unique</th>\n",
              "      <td>891</td>\n",
              "      <td>2</td>\n",
              "      <td>681</td>\n",
              "      <td>147</td>\n",
              "      <td>3</td>\n",
              "    </tr>\n",
              "    <tr>\n",
              "      <th>top</th>\n",
              "      <td>Ivanoff, Mr. Kanio</td>\n",
              "      <td>male</td>\n",
              "      <td>CA. 2343</td>\n",
              "      <td>C23 C25 C27</td>\n",
              "      <td>S</td>\n",
              "    </tr>\n",
              "    <tr>\n",
              "      <th>freq</th>\n",
              "      <td>1</td>\n",
              "      <td>577</td>\n",
              "      <td>7</td>\n",
              "      <td>4</td>\n",
              "      <td>644</td>\n",
              "    </tr>\n",
              "  </tbody>\n",
              "</table>\n",
              "</div>"
            ],
            "text/plain": [
              "                      Name   Sex    Ticket        Cabin Embarked\n",
              "count                  891   891       891          204      889\n",
              "unique                 891     2       681          147        3\n",
              "top     Ivanoff, Mr. Kanio  male  CA. 2343  C23 C25 C27        S\n",
              "freq                     1   577         7            4      644"
            ]
          },
          "metadata": {
            "tags": []
          },
          "execution_count": 15
        }
      ]
    },
    {
      "cell_type": "markdown",
      "metadata": {
        "id": "g-qQGdOSco38",
        "colab_type": "text"
      },
      "source": [
        ">* Podemos notar o seguinte, tanto a variável Name quanto Sex não tem valores nulos\n",
        ">* Existem mais homens que mulheres no navio (558/838)\n",
        "> * O porto no qual houve mais embarques foi Southampton com 644 embarques.\n",
        "##***4. Preparação dos dados***\n",
        "\n",
        "> Neste tópico iremos relizar o ajuste final no DataSet para que possamos construir e avaliar nosso modelo."
      ]
    },
    {
      "cell_type": "code",
      "metadata": {
        "id": "LW8MczBgcwuF",
        "colab_type": "code",
        "colab": {
          "base_uri": "https://localhost:8080/",
          "height": 34
        },
        "outputId": "f0cd0253-022e-4cc7-b308-a33fde12ef3d"
      },
      "source": [
        "# Salvar os indices dos datasets para recuperação posterior.\n",
        "df_treino_idx = df_treino.shape[0] \n",
        "df_teste_idx = df_teste.shape[0]\n",
        "\n",
        "# Salvar PassengerId para submissão ao Kaggle.\n",
        "PassengerId = df_teste['PassengerId']\n",
        "\n",
        "# Extrair coluna Survived do DataSet e depois dropa-la do dataset df_treino\n",
        "col_alvo = df_treino.Survived.copy()\n",
        "df_treino.drop(['Survived'], axis=1, inplace = True)\n",
        "\n",
        "# Concatenar treino e teste em um unico DataFrame\n",
        "df_merged = pd.concat(objs = [df_treino, df_teste], axis=0).reset_index(drop=True)\n",
        "\n",
        "print('df_merged size: ({} , {})'.format(df_merged.shape[0], df_merged.shape[1]))"
      ],
      "execution_count": 16,
      "outputs": [
        {
          "output_type": "stream",
          "text": [
            "df_merged size: (1309 , 11)\n"
          ],
          "name": "stdout"
        }
      ]
    },
    {
      "cell_type": "markdown",
      "metadata": {
        "id": "dsNAAA_Wc474",
        "colab_type": "text"
      },
      "source": [
        "###**Selecionar as Variáveis**\n",
        "\n",
        "Como em qualquer outro conjuntos de dados existem algumas informações que não servem de nada ou são de completo desuso para nosso modelo, por isso vamos selecionar as colunas  PassengerId, Name, Ticket e Cabin para excluir do DataFrame usado no modelo"
      ]
    },
    {
      "cell_type": "code",
      "metadata": {
        "id": "QTFJxsFSc_Ct",
        "colab_type": "code",
        "colab": {
          "base_uri": "https://localhost:8080/",
          "height": 195
        },
        "outputId": "9b4a3135-af87-4ea4-ca35-acb24594223a"
      },
      "source": [
        "df_merged.drop(['PassengerId', 'Name', 'Ticket', 'Cabin'], axis=1, inplace=True)\n",
        "df_merged.head()"
      ],
      "execution_count": 17,
      "outputs": [
        {
          "output_type": "execute_result",
          "data": {
            "text/html": [
              "<div>\n",
              "<style scoped>\n",
              "    .dataframe tbody tr th:only-of-type {\n",
              "        vertical-align: middle;\n",
              "    }\n",
              "\n",
              "    .dataframe tbody tr th {\n",
              "        vertical-align: top;\n",
              "    }\n",
              "\n",
              "    .dataframe thead th {\n",
              "        text-align: right;\n",
              "    }\n",
              "</style>\n",
              "<table border=\"1\" class=\"dataframe\">\n",
              "  <thead>\n",
              "    <tr style=\"text-align: right;\">\n",
              "      <th></th>\n",
              "      <th>Pclass</th>\n",
              "      <th>Sex</th>\n",
              "      <th>Age</th>\n",
              "      <th>SibSp</th>\n",
              "      <th>Parch</th>\n",
              "      <th>Fare</th>\n",
              "      <th>Embarked</th>\n",
              "    </tr>\n",
              "  </thead>\n",
              "  <tbody>\n",
              "    <tr>\n",
              "      <th>0</th>\n",
              "      <td>3</td>\n",
              "      <td>male</td>\n",
              "      <td>22.0</td>\n",
              "      <td>1</td>\n",
              "      <td>0</td>\n",
              "      <td>7.2500</td>\n",
              "      <td>S</td>\n",
              "    </tr>\n",
              "    <tr>\n",
              "      <th>1</th>\n",
              "      <td>1</td>\n",
              "      <td>female</td>\n",
              "      <td>38.0</td>\n",
              "      <td>1</td>\n",
              "      <td>0</td>\n",
              "      <td>71.2833</td>\n",
              "      <td>C</td>\n",
              "    </tr>\n",
              "    <tr>\n",
              "      <th>2</th>\n",
              "      <td>3</td>\n",
              "      <td>female</td>\n",
              "      <td>26.0</td>\n",
              "      <td>0</td>\n",
              "      <td>0</td>\n",
              "      <td>7.9250</td>\n",
              "      <td>S</td>\n",
              "    </tr>\n",
              "    <tr>\n",
              "      <th>3</th>\n",
              "      <td>1</td>\n",
              "      <td>female</td>\n",
              "      <td>35.0</td>\n",
              "      <td>1</td>\n",
              "      <td>0</td>\n",
              "      <td>53.1000</td>\n",
              "      <td>S</td>\n",
              "    </tr>\n",
              "    <tr>\n",
              "      <th>4</th>\n",
              "      <td>3</td>\n",
              "      <td>male</td>\n",
              "      <td>35.0</td>\n",
              "      <td>0</td>\n",
              "      <td>0</td>\n",
              "      <td>8.0500</td>\n",
              "      <td>S</td>\n",
              "    </tr>\n",
              "  </tbody>\n",
              "</table>\n",
              "</div>"
            ],
            "text/plain": [
              "   Pclass     Sex   Age  SibSp  Parch     Fare Embarked\n",
              "0       3    male  22.0      1      0   7.2500        S\n",
              "1       1  female  38.0      1      0  71.2833        C\n",
              "2       3  female  26.0      0      0   7.9250        S\n",
              "3       1  female  35.0      1      0  53.1000        S\n",
              "4       3    male  35.0      0      0   8.0500        S"
            ]
          },
          "metadata": {
            "tags": []
          },
          "execution_count": 17
        }
      ]
    },
    {
      "cell_type": "markdown",
      "metadata": {
        "id": "1VuZwo88dD9l",
        "colab_type": "text"
      },
      "source": [
        "###**Valores Faltantes**\n",
        "> Aqui vamos olhar os campos vazio em cada coluna e tratar essas ausências"
      ]
    },
    {
      "cell_type": "code",
      "metadata": {
        "id": "sY27_AvedYyB",
        "colab_type": "code",
        "colab": {
          "base_uri": "https://localhost:8080/",
          "height": 151
        },
        "outputId": "33e88cb4-3244-4a89-da89-749174e69ef4"
      },
      "source": [
        "# Completar a variável age com sua mediana\n",
        "age_median = df_merged.Age.median()\n",
        "df_merged.Age.fillna(age_median, inplace = True)\n",
        "\n",
        "# Completar a variável fare com a sua mediana\n",
        "fare_median = df_merged.Fare.median()\n",
        "df_merged.Fare.fillna(fare_median, inplace=True)\n",
        "\n",
        "# Completar a variável embarked com a maior frequência\n",
        "embarked_top = df_merged.Embarked.value_counts()\n",
        "df_merged.Embarked.fillna(embarked_top, inplace=True)\n",
        "\n",
        "# Mostrar informações no DataSet que estão vazias\n",
        "df_merged.isnull().sum()"
      ],
      "execution_count": 18,
      "outputs": [
        {
          "output_type": "execute_result",
          "data": {
            "text/plain": [
              "Pclass      0\n",
              "Sex         0\n",
              "Age         0\n",
              "SibSp       0\n",
              "Parch       0\n",
              "Fare        0\n",
              "Embarked    2\n",
              "dtype: int64"
            ]
          },
          "metadata": {
            "tags": []
          },
          "execution_count": 18
        }
      ]
    },
    {
      "cell_type": "markdown",
      "metadata": {
        "id": "_vrOWYTBddHQ",
        "colab_type": "text"
      },
      "source": [
        "###**Preparando as variáveis para o modelo**\n",
        "> O modelo matemático exige somente valores númericos para o modelo, dessa forma é preciso converter os valores que são categoricos para números."
      ]
    },
    {
      "cell_type": "code",
      "metadata": {
        "id": "g2vhYv_0eBU3",
        "colab_type": "code",
        "colab": {
          "base_uri": "https://localhost:8080/",
          "height": 195
        },
        "outputId": "dec46be0-6cb5-4876-8d32-afc439bb2036"
      },
      "source": [
        "# Converter a variável Sex em 0 e 1\n",
        "df_merged.Sex = df_merged.Sex.map({'male':0, 'female':1})\n",
        "\n",
        "# Dummie Variables para a variável Embarked\n",
        "embarked_dummies = pd.get_dummies(df_merged['Embarked'], prefix='Embarked')\n",
        "df_merged = pd.concat([df_merged, embarked_dummies], axis=1)\n",
        "df_merged.drop('Embarked', axis =1, inplace=True)\n",
        "\n",
        "df_merged.head()"
      ],
      "execution_count": 19,
      "outputs": [
        {
          "output_type": "execute_result",
          "data": {
            "text/html": [
              "<div>\n",
              "<style scoped>\n",
              "    .dataframe tbody tr th:only-of-type {\n",
              "        vertical-align: middle;\n",
              "    }\n",
              "\n",
              "    .dataframe tbody tr th {\n",
              "        vertical-align: top;\n",
              "    }\n",
              "\n",
              "    .dataframe thead th {\n",
              "        text-align: right;\n",
              "    }\n",
              "</style>\n",
              "<table border=\"1\" class=\"dataframe\">\n",
              "  <thead>\n",
              "    <tr style=\"text-align: right;\">\n",
              "      <th></th>\n",
              "      <th>Pclass</th>\n",
              "      <th>Sex</th>\n",
              "      <th>Age</th>\n",
              "      <th>SibSp</th>\n",
              "      <th>Parch</th>\n",
              "      <th>Fare</th>\n",
              "      <th>Embarked_C</th>\n",
              "      <th>Embarked_Q</th>\n",
              "      <th>Embarked_S</th>\n",
              "    </tr>\n",
              "  </thead>\n",
              "  <tbody>\n",
              "    <tr>\n",
              "      <th>0</th>\n",
              "      <td>3</td>\n",
              "      <td>0</td>\n",
              "      <td>22.0</td>\n",
              "      <td>1</td>\n",
              "      <td>0</td>\n",
              "      <td>7.2500</td>\n",
              "      <td>0</td>\n",
              "      <td>0</td>\n",
              "      <td>1</td>\n",
              "    </tr>\n",
              "    <tr>\n",
              "      <th>1</th>\n",
              "      <td>1</td>\n",
              "      <td>1</td>\n",
              "      <td>38.0</td>\n",
              "      <td>1</td>\n",
              "      <td>0</td>\n",
              "      <td>71.2833</td>\n",
              "      <td>1</td>\n",
              "      <td>0</td>\n",
              "      <td>0</td>\n",
              "    </tr>\n",
              "    <tr>\n",
              "      <th>2</th>\n",
              "      <td>3</td>\n",
              "      <td>1</td>\n",
              "      <td>26.0</td>\n",
              "      <td>0</td>\n",
              "      <td>0</td>\n",
              "      <td>7.9250</td>\n",
              "      <td>0</td>\n",
              "      <td>0</td>\n",
              "      <td>1</td>\n",
              "    </tr>\n",
              "    <tr>\n",
              "      <th>3</th>\n",
              "      <td>1</td>\n",
              "      <td>1</td>\n",
              "      <td>35.0</td>\n",
              "      <td>1</td>\n",
              "      <td>0</td>\n",
              "      <td>53.1000</td>\n",
              "      <td>0</td>\n",
              "      <td>0</td>\n",
              "      <td>1</td>\n",
              "    </tr>\n",
              "    <tr>\n",
              "      <th>4</th>\n",
              "      <td>3</td>\n",
              "      <td>0</td>\n",
              "      <td>35.0</td>\n",
              "      <td>0</td>\n",
              "      <td>0</td>\n",
              "      <td>8.0500</td>\n",
              "      <td>0</td>\n",
              "      <td>0</td>\n",
              "      <td>1</td>\n",
              "    </tr>\n",
              "  </tbody>\n",
              "</table>\n",
              "</div>"
            ],
            "text/plain": [
              "   Pclass  Sex   Age  SibSp  Parch     Fare  Embarked_C  Embarked_Q  \\\n",
              "0       3    0  22.0      1      0   7.2500           0           0   \n",
              "1       1    1  38.0      1      0  71.2833           1           0   \n",
              "2       3    1  26.0      0      0   7.9250           0           0   \n",
              "3       1    1  35.0      1      0  53.1000           0           0   \n",
              "4       3    0  35.0      0      0   8.0500           0           0   \n",
              "\n",
              "   Embarked_S  \n",
              "0           1  \n",
              "1           0  \n",
              "2           1  \n",
              "3           1  \n",
              "4           1  "
            ]
          },
          "metadata": {
            "tags": []
          },
          "execution_count": 19
        }
      ]
    },
    {
      "cell_type": "markdown",
      "metadata": {
        "id": "Xk1s0nfveFGN",
        "colab_type": "text"
      },
      "source": [
        "###**Recuperando o DateSet**\n",
        "Agora iremos dividir os DataSets e os dados estão prontos para alimentar o modelo."
      ]
    },
    {
      "cell_type": "code",
      "metadata": {
        "id": "0b3FM0lpeLsw",
        "colab_type": "code",
        "colab": {}
      },
      "source": [
        "# Recuperar datasets de treino e teste\n",
        "df_treino = df_merged.iloc[:df_treino_idx]\n",
        "df_teste = df_merged.iloc[:df_teste_idx]"
      ],
      "execution_count": 0,
      "outputs": []
    },
    {
      "cell_type": "markdown",
      "metadata": {
        "id": "DwpVRuBZeQ3y",
        "colab_type": "text"
      },
      "source": [
        "##**5. Construção do modelo**\n",
        "> Aqui vamos implementar nosso modelo de machine learnig utilizando a tecnica de regressão linear."
      ]
    },
    {
      "cell_type": "code",
      "metadata": {
        "id": "Hnml-bFLeU79",
        "colab_type": "code",
        "colab": {
          "base_uri": "https://localhost:8080/",
          "height": 34
        },
        "outputId": "7bcde2fc-d237-4dde-a0db-2e93f1a0f465"
      },
      "source": [
        "# Importando a biblioteca do modelo de Machine Learnig\n",
        "from sklearn.linear_model import LogisticRegression\n",
        "\n",
        "# Criar um modelo de Regressão Logistica\n",
        "Modelo_Regressão_Linear = LogisticRegression(solver = 'liblinear')\n",
        "Modelo_Regressão_Linear.fit(df_treino, col_alvo)\n",
        "\n",
        "# Verificar a acurácia do modelo\n",
        "Acc_Modelo_Regressão_Linear = round(Modelo_Regressão_Linear.score(df_treino, col_alvo)*100, 2)\n",
        "print('Acurácia do modelo:{}'.format(Acc_Modelo_Regressão_Linear))"
      ],
      "execution_count": 21,
      "outputs": [
        {
          "output_type": "stream",
          "text": [
            "Acurácia do modelo:80.13\n"
          ],
          "name": "stdout"
        }
      ]
    },
    {
      "cell_type": "markdown",
      "metadata": {
        "id": "7QHYXmyefPK1",
        "colab_type": "text"
      },
      "source": [
        "> Com esse modelo obtivemos uma acurácia de 80.13%, vamos ver como se sai em uma arvore de decisão."
      ]
    },
    {
      "cell_type": "code",
      "metadata": {
        "id": "5aHs0c0oemvy",
        "colab_type": "code",
        "colab": {
          "base_uri": "https://localhost:8080/",
          "height": 34
        },
        "outputId": "6cb0b990-c504-40ef-a1fb-94d37fdfab92"
      },
      "source": [
        "# importar bibliotecas do modelo de Machine Learning\n",
        "from sklearn.tree import DecisionTreeClassifier\n",
        "\n",
        "# criar um modelo de árvore de decisão\n",
        "Modelo_Arvore_Decisão = DecisionTreeClassifier(max_depth=22)\n",
        "Modelo_Arvore_Decisão.fit(df_treino, col_alvo)\n",
        "\n",
        "# verificar a acurácia do modelo\n",
        "acc_tree = round(Modelo_Arvore_Decisão.score(df_treino, col_alvo) * 100, 2)\n",
        "print(\"Acurácia do modelo de Árvore de Decisão: {}\".format(acc_tree))\n"
      ],
      "execution_count": 22,
      "outputs": [
        {
          "output_type": "stream",
          "text": [
            "Acurácia do modelo de Árvore de Decisão: 97.98\n"
          ],
          "name": "stdout"
        }
      ]
    },
    {
      "cell_type": "markdown",
      "metadata": {
        "id": "ngwllYZPf8dO",
        "colab_type": "text"
      },
      "source": [
        ">Com o modelode árvore de decisão alcaçamos 97,98% de acurácia utilizando uma profundidade maxima de 22.\n",
        "\n",
        "> Por fim agora nosso modelo esta pronto e treinado. Mas você sobriveria no titanic?\n"
      ]
    },
    {
      "cell_type": "code",
      "metadata": {
        "id": "usEKVkvfguVS",
        "colab_type": "code",
        "colab": {
          "base_uri": "https://localhost:8080/",
          "height": 34
        },
        "outputId": "009ff022-72ca-48c3-cf2f-2b83a4c451e2"
      },
      "source": [
        "# Coloque os dado nessa ordem, Classe(1, 2 ou 3),sexo(0 para Homen, 1 para mulher),\n",
        "# idade, quantos filhos você carrega, preço da passagem(ex:100.5), e escolha um dos portos:\n",
        "# Southaptom 0,0,0,1\n",
        "# Cherbourg  0,1,0,0\n",
        "# Queenstown 0,0,1,0\n",
        "# Agora substitua isso no array abaixo nessa mesma ordem e seu nome onde solicidato.\n",
        "Guilherme = np.array([1, 1, 21, 0,500.0, 0, 0, 0, 1]).reshape((1, -1))\n",
        "print(\"Guilherme:\\t{}\".format(Modelo_Arvore_Decisão.predict(Guilherme)[0]))"
      ],
      "execution_count": 28,
      "outputs": [
        {
          "output_type": "stream",
          "text": [
            "Guilherme:\t1\n"
          ],
          "name": "stdout"
        }
      ]
    },
    {
      "cell_type": "markdown",
      "metadata": {
        "id": "SmHXdzPrjIRa",
        "colab_type": "text"
      },
      "source": [
        "> **Vemos que segundo meu modelo de predição eu sobreviveria a um naufrágio como o do titanic.**"
      ]
    },
    {
      "cell_type": "code",
      "metadata": {
        "id": "SuolyZxwDDJo",
        "colab_type": "code",
        "colab": {}
      },
      "source": [
        ""
      ],
      "execution_count": 0,
      "outputs": []
    }
  ]
}